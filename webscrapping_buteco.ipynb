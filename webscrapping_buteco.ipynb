{
  "nbformat": 4,
  "nbformat_minor": 0,
  "metadata": {
    "colab": {
      "provenance": [],
      "toc_visible": true,
      "authorship_tag": "ABX9TyNl1wag2qluZzOV2T/LrYJ8",
      "include_colab_link": true
    },
    "kernelspec": {
      "name": "python3",
      "display_name": "Python 3"
    },
    "language_info": {
      "name": "python"
    }
  },
  "cells": [
    {
      "cell_type": "markdown",
      "metadata": {
        "id": "view-in-github",
        "colab_type": "text"
      },
      "source": [
        "<a href=\"https://colab.research.google.com/github/PedroPinheiroMachado/Portfolio/blob/main/webscrapping_buteco.ipynb\" target=\"_parent\"><img src=\"https://colab.research.google.com/assets/colab-badge.svg\" alt=\"Open In Colab\"/></a>"
      ]
    },
    {
      "cell_type": "markdown",
      "source": [
        "#Sobre o Projeto\n",
        "\n",
        "Provavelmente você já escutou falar sobre o evento \"Comida di Buteco\", já foi até motivo de diversas reportagens ao longo dos anos.\n",
        "\n",
        "Este Projeto nada mais é do que webscrapping inicial dos botecos do *Rio de Janeiro* de 2025, presentes na [Página Oficial](https://comidadibuteco.com.br/butecos/rio-de-janeiro/).\n",
        "\n",
        "Olhando um pouco a página, percebemos que temos o `nome do estabelecimento`, o `endereço`, `prato` e a `descrição do prato`.\n",
        "\n",
        "Nosso trabalho é pegar estas informações e agregá-las em um *dataset*"
      ],
      "metadata": {
        "id": "wFQ_4dslcNdt"
      }
    },
    {
      "cell_type": "code",
      "source": [
        "from bs4 import BeautifulSoup\n",
        "import requests\n",
        "import re\n",
        "import unicodedata\n",
        "import pandas as pd"
      ],
      "metadata": {
        "id": "NNYoiNwwBWZn"
      },
      "execution_count": 1,
      "outputs": []
    },
    {
      "cell_type": "markdown",
      "source": [
        "##Importação dos dados"
      ],
      "metadata": {
        "id": "PxYfWxFGf_ta"
      }
    },
    {
      "cell_type": "markdown",
      "source": [
        "Iremos acessar a página e usando as divisões de classes do html, selecionar o que nos interessa.\n",
        "\n",
        "Na div `caption`: temos tanto o nome quanto o endereço.\n",
        "Assim, utilizaremos o separador destes de acordo com o html, (h2 e p)\n",
        "\n",
        "Outro problema que temos é que possuímos diversas páginas para acessar, porém pode-se perceber que o domínio é estático, apenas variando no número da página, então construímos um url que muda de acordo com o número da página."
      ],
      "metadata": {
        "id": "Pnbws-GDgI0M"
      }
    },
    {
      "cell_type": "code",
      "source": [
        "nome=[]\n",
        "endereco=[]\n",
        "for i in range(1,21):\n",
        "  url= f'https://comidadibuteco.com.br/butecos/rio-de-janeiro/page/{i}/'\n",
        "  page = requests.get(url)\n",
        "  dadospagina = BeautifulSoup(page.text, \"html.parser\")\n",
        "  frases = dadospagina.find_all(\"div\", class_=\"caption\")\n",
        "  for div in frases:\n",
        "    nome.append(div.find(\"h2\").text)\n",
        "    endereco.append(div.find(\"p\").text)\n"
      ],
      "metadata": {
        "id": "5Odyh9l3BlX5"
      },
      "execution_count": 2,
      "outputs": []
    },
    {
      "cell_type": "code",
      "source": [
        "nome[:5]"
      ],
      "metadata": {
        "colab": {
          "base_uri": "https://localhost:8080/"
        },
        "id": "FgGs8UZYhMXa",
        "outputId": "9159e881-c281-4f09-d3a6-549e8e4c2072"
      },
      "execution_count": 4,
      "outputs": [
        {
          "output_type": "execute_result",
          "data": {
            "text/plain": [
              "['Angurmê Culinária Afro-brasileira',\n",
              " 'Antônio’s Nordestino',\n",
              " 'Armazém São Thiago',\n",
              " 'Art Chopp',\n",
              " 'Baixo Gago']"
            ]
          },
          "metadata": {},
          "execution_count": 4
        }
      ]
    },
    {
      "cell_type": "code",
      "source": [
        "endereco[:5]"
      ],
      "metadata": {
        "colab": {
          "base_uri": "https://localhost:8080/"
        },
        "id": "oZoZvYxChN5T",
        "outputId": "95d6d83b-daca-45dd-d8b6-06d8a42a3fa5"
      },
      "execution_count": 5,
      "outputs": [
        {
          "output_type": "execute_result",
          "data": {
            "text/plain": [
              "['Rua Visconde de Abaeté, 123 | Vila Isabel, Rio de Janeiro - RJ',\n",
              " 'Rua Ati, 365 | Tanque, Rio de Janeiro - RJ',\n",
              " 'Rua Áurea, 26 | Santa Teresa, Rio de Janeiro - RJ',\n",
              " 'Rua Macembu, 63 Rio de Janeiro - RJ',\n",
              " 'Rua Gago Coutinho, 51 | Laranjeiras, Rio de Janeiro - RJ']"
            ]
          },
          "metadata": {},
          "execution_count": 5
        }
      ]
    },
    {
      "cell_type": "markdown",
      "source": [
        "##Pegando os pratos\n",
        "\n",
        "Agora devemos acessar cada um dos estabelecimentos, neste momento, fazemos uma análise rápida no endereço de cada boteco, por exemplo: Armazém Sçao Thiago. possui endereço como https://comidadibuteco.com.br/buteco/armazem-sao-thiago/\n",
        "\n",
        "Veja que com o nome que já temos, conseguimos acessar a página, porém devemos tratar como pode ser visto, Os caracteres especiais, o maiúsculo, e botar os hífens.\n",
        "\n",
        "\n",
        "Porém encontraremos mais um problema, alguns estabelecimentos possuem endereços diferentes dos nomes, nestes casos, iremos tratar separadamente. Aqui ocorre apenas uma vez, com o Tibar Taquara"
      ],
      "metadata": {
        "id": "Gg1yWZPMhT_A"
      }
    },
    {
      "cell_type": "code",
      "source": [
        "#Definir nossas listas para salvar\n",
        "listafim=[]\n",
        "listacheia=[]\n",
        "legenda=[]\n",
        "\n",
        "#Preparação dos nomes para botar no endereço\n",
        "for i in range(0,len(nome)):\n",
        "  nome1 = unicodedata.normalize('NFKD', nome[i]).encode('ASCII', 'ignore').decode('ASCII')\n",
        "  nome1 = nome1.replace(\"ç\", \"c\").replace(\"'\", \"\").replace('\"', \"\")\n",
        "  nome1=nome1.strip().replace(\" \",\"-\")\n",
        "  print(nome1)\n",
        "\n",
        "#Tratar os \"outliers\"\n",
        "  if nome1 == \"Tibar-Taquara\":\n",
        "    url= \"https://comidadibuteco.com.br/buteco/tibar/\"\n",
        "    page = requests.get(url)\n",
        "    dadospagina = BeautifulSoup(page.text, \"html.parser\")\n",
        "    frases = dadospagina.find_all(\"div\", class_=\"section-text\")\n",
        "    for div in frases:\n",
        "      listafim.append(div.find(\"p\").find(\"b\").text.lstrip())\n",
        "      listacheia.append((div.find(\"p\").text.lstrip()))\n",
        "  else:\n",
        "    url= f'https://comidadibuteco.com.br/buteco/{nome1}/'\n",
        "    page = requests.get(url)\n",
        "    dadospagina = BeautifulSoup(page.text, \"html.parser\")\n",
        "    frases = dadospagina.find_all(\"div\", class_=\"section-text\")\n",
        "    for div in frases:\n",
        "      if div.find(\"p\").find(\"b\") == None:\n",
        "        listafim.append(div.find(\"p\").find(\"strong\").text.lstrip())\n",
        "        print(\"comida:\")\n",
        "        print(div.find(\"p\").find(\"strong\").text.lstrip())\n",
        "        listacheia.append(div.find(\"p\").text.lstrip())\n",
        "      else:\n",
        "          paragrafos = div.find(\"p\").find(\"b\").text\n",
        "          print(\"comida:\")\n",
        "          print(div.find(\"p\").text.lstrip())\n",
        "          listacheia.append(div.find(\"p\").text.lstrip())\n",
        "          listafim.append(paragrafos)"
      ],
      "metadata": {
        "id": "_2gim_hXG-eX",
        "collapsed": true
      },
      "execution_count": null,
      "outputs": []
    },
    {
      "cell_type": "code",
      "source": [
        "listacheia[:5]\n"
      ],
      "metadata": {
        "colab": {
          "base_uri": "https://localhost:8080/"
        },
        "id": "IZ9YWnPgjAgl",
        "outputId": "4a6623c6-ce23-48ce-943c-82486655f2a3"
      },
      "execution_count": 8,
      "outputs": [
        {
          "output_type": "execute_result",
          "data": {
            "text/plain": [
              "['Fofoquinha da VilaBolinho de língua desfiada e fubá mimoso empanado com flocos de milho crocante, acompanhado de vinagrete maxixe e pimenta biquinho.',\n",
              " 'Harmonia do Sertão Escondidinho de aipim com carne-seca desfiada, queijo coalho, feijão-de-corda, gratinado no forno. Acompanha: manteiga de garrafa e queijo parmesão ralado.',\n",
              " 'Croqueta Espetaculosa Croquetas de diferentes tipos de carne de porco: barriga de porco, pernil, blend de costelinhas e joelho de porco com geleia de bacon com cebolas e especiarias.',\n",
              " 'Nosso Porquinho deu Cuscuz!Copa lombo defumado em lenha de macieira, desfiado e servido com farofa de cuscuz nordestino.Endereço: Rua Estrada Macembu, 63 | Taquara, Rio de Janeiro – RJ',\n",
              " 'Flor do SolCebola empanada recheada de arroz de carne seca, coberta de queijo provolone gratinado.']"
            ]
          },
          "metadata": {},
          "execution_count": 8
        }
      ]
    },
    {
      "cell_type": "code",
      "source": [
        "listafim[:5]"
      ],
      "metadata": {
        "colab": {
          "base_uri": "https://localhost:8080/"
        },
        "id": "I7XPraH9jJLv",
        "outputId": "6c09a77d-2861-4023-ce24-f590836ec31c"
      },
      "execution_count": 9,
      "outputs": [
        {
          "output_type": "execute_result",
          "data": {
            "text/plain": [
              "['Fofoquinha da Vila',\n",
              " 'Harmonia do Sertão',\n",
              " 'Croqueta Espetaculosa',\n",
              " 'Nosso Porquinho deu Cuscuz!',\n",
              " 'Flor do Sol']"
            ]
          },
          "metadata": {},
          "execution_count": 9
        }
      ]
    },
    {
      "cell_type": "markdown",
      "source": [
        "##Tratar O problema do  nome do prato e legenda do prato\n",
        "\n",
        "Como podemos ver, nossa listafim possui apenas os nomes dos pratos, porém listacheia está com o nome dos pratos e as legendas.\n",
        "\n",
        "Infelizmente no html do site, não conseguimos acessar separadamente cada um, então devemos tentar ao máximo separar com oque temos."
      ],
      "metadata": {
        "id": "Op08rwV7jMQ_"
      }
    },
    {
      "cell_type": "code",
      "source": [
        "def remove_intersecao(lista1, lista2):\n",
        "    lista2_sem_interseccao = []\n",
        "\n",
        "    for frase2 in lista2:\n",
        "        for frase1 in lista1:\n",
        "            # Usar regex para substituir as palavras inteiras\n",
        "            frase2 = re.sub(r'\\b' + re.escape(frase1) + r'\\b', '', frase2)\n",
        "\n",
        "        # Remover espaços extras e garantir que não reste nada no final\n",
        "        lista2_sem_interseccao.append(frase2.strip())\n",
        "\n",
        "    return lista2_sem_interseccao\n",
        "\n",
        "def remove_apos_endereco(lista):\n",
        "    resultado = []\n",
        "    for frase in lista:\n",
        "        # Usar regex para encontrar a palavra \"Endereço\" e tudo que vem depois\n",
        "        frase_modificada = re.sub(r'Endereço.*', 'Endereço', frase)\n",
        "        resultado.append(frase_modificada.strip())\n",
        "    return resultado"
      ],
      "metadata": {
        "id": "hD9Jj8LXOmDs"
      },
      "execution_count": 14,
      "outputs": []
    },
    {
      "cell_type": "markdown",
      "source": [
        "Iremos tirar da listacheia tudo que possui o nome dos pratos, além disso, temos que no final sempre adiciona-se o endereço, assim, também iremos removê-lo."
      ],
      "metadata": {
        "id": "SM-mFT22jqJ6"
      }
    },
    {
      "cell_type": "code",
      "source": [
        "legenda=remove_intersecao(listafim, listacheia)\n",
        "legenda=remove_apos_endereco(legenda)"
      ],
      "metadata": {
        "id": "BimZr6xFwjbF"
      },
      "execution_count": 15,
      "outputs": []
    },
    {
      "cell_type": "code",
      "source": [
        "legenda[3:10]"
      ],
      "metadata": {
        "colab": {
          "base_uri": "https://localhost:8080/"
        },
        "id": "PUd0osDAC6Ej",
        "outputId": "e4b66b54-0076-410b-ec04-7e8b8ae94bbb"
      },
      "execution_count": 18,
      "outputs": [
        {
          "output_type": "execute_result",
          "data": {
            "text/plain": [
              "['Fofoquinha da VilaBolinho de língua desfiada e fubá mimoso empanado com flocos de milho crocante, acompanhado de vinagrete maxixe e pimenta biquinho.',\n",
              " 'Escondidinho de aipim com carne-seca desfiada, queijo coalho, feijão-de-corda, gratinado no forno. Acompanha: manteiga de garrafa e queijo parmesão ralado.',\n",
              " 'Croquetas de diferentes tipos de carne de porco: barriga de porco, pernil, blend de costelinhas e joelho de porco com geleia de bacon com cebolas e especiarias.',\n",
              " 'Copa lombo defumado em lenha de macieira, desfiado e servido com farofa de cuscuz nordestino.Endereço',\n",
              " 'Flor do SolCebola empanada recheada de arroz de carne seca, coberta de queijo provolone gratinado.',\n",
              " 'Bolinhos de milho com recheio de mexilhão, empanados e fritos na farinha Panko, acompanhados de um creme de queijo gorgonzola.',\n",
              " 'Paçoca de carne de sol com feijão-verde debulhado e queijo coalho.',\n",
              " 'Caldo de fraldinha desfiada com creme de batata e feijão-branco.',\n",
              " 'Camarão que acompanha bacalhau, acorda com bacon dentro da croqueta do Canedo! Croqueta cremosa de bacalhau feita com Catupiry original e com recheio de camarão e bacon. Acompanhada de molho de queijo e limão.',\n",
              " 'Costelas cremosasCostelas bovinas servidas no purê de mandioca cremosa.']"
            ]
          },
          "metadata": {},
          "execution_count": 18
        }
      ]
    },
    {
      "cell_type": "code",
      "source": [
        "#Verificar os tamanhos\n",
        "print(len(listacheia))\n",
        "print(len(legenda))\n",
        "print(len(listafim))\n",
        "print(len(endereco))\n",
        "print(len(nome))\n"
      ],
      "metadata": {
        "colab": {
          "base_uri": "https://localhost:8080/"
        },
        "id": "fRdTEn-ixTao",
        "outputId": "5410a63f-e495-4d46-8f37-5eb070446a34"
      },
      "execution_count": 21,
      "outputs": [
        {
          "output_type": "stream",
          "name": "stdout",
          "text": [
            "94\n",
            "94\n",
            "94\n",
            "94\n",
            "94\n"
          ]
        }
      ]
    },
    {
      "cell_type": "markdown",
      "source": [
        "##Transformando em um dataframe\n",
        "\n",
        "Usaremos o pandas para realizar a transformação das listas que temos em um dataframe."
      ],
      "metadata": {
        "id": "lTEenytekxAb"
      }
    },
    {
      "cell_type": "code",
      "source": [
        "df = pd.DataFrame({\n",
        "    'Nome do Estabelecimento': nome,\n",
        "    'Endereço': endereco,\n",
        "    'Prato': listafim,\n",
        "    \"Descrição do Prato\": legenda\n",
        "})"
      ],
      "metadata": {
        "id": "vLTQRIUd5Ndb"
      },
      "execution_count": null,
      "outputs": []
    },
    {
      "cell_type": "markdown",
      "source": [
        "##DataFrame"
      ],
      "metadata": {
        "id": "T24N-HLTk61U"
      }
    },
    {
      "cell_type": "markdown",
      "source": [
        "Chegamos ao final, nosso *dataset* está pronto, algumas coisas que poderiamos melhorar certamente é na descrição do prato.\n",
        "\n",
        "Este possui alguns erros como pode ser visto rapidamente, isto ocorreu pois não pude acessar melhor as divs feitas no site, assim tive que tentar separar utilizando uma própria análise textual.\n",
        "\n",
        "Outro ponto que pode-se melhorar, é no endereço, podemos passar para lat e long, uma vez que o endereço por extenso pouco se diz."
      ],
      "metadata": {
        "id": "__DeYYLvk810"
      }
    },
    {
      "cell_type": "code",
      "source": [
        "df"
      ],
      "metadata": {
        "colab": {
          "base_uri": "https://localhost:8080/",
          "height": 615
        },
        "id": "9YRPi5hR6RWH",
        "outputId": "e12b142b-eed2-4665-abb7-2e772839abe8"
      },
      "execution_count": null,
      "outputs": [
        {
          "output_type": "execute_result",
          "data": {
            "text/plain": [
              "              Nome do Estabelecimento  \\\n",
              "0   Angurmê Culinária Afro-brasileira   \n",
              "1                Antônio’s Nordestino   \n",
              "2                  Armazém São Thiago   \n",
              "3                           Art Chopp   \n",
              "4                          Baixo Gago   \n",
              "..                                ...   \n",
              "89              Varandão do Valqueire   \n",
              "90                         Victor Bar   \n",
              "91                          Vigal Bar   \n",
              "92                          Vila Rica   \n",
              "93                         Zinho Bier   \n",
              "\n",
              "                                             Endereço  \\\n",
              "0   Rua Visconde de Abaeté, 123 | Vila Isabel, Rio...   \n",
              "1          Rua Ati, 365 | Tanque, Rio de Janeiro - RJ   \n",
              "2   Rua Áurea, 26 | Santa Teresa, Rio de Janeiro - RJ   \n",
              "3                 Rua Macembu, 63 Rio de Janeiro - RJ   \n",
              "4   Rua Gago Coutinho, 51 | Laranjeiras, Rio de Ja...   \n",
              "..                                                ...   \n",
              "89            Rua Jambeiro, 433 | Rio de Janeiro - RJ   \n",
              "90    Rua Riachuelo, 32 | Centro, Rio de Janeiro - RJ   \n",
              "91  Rua Lopo Saraiva, 179 | Tanque, Rio de Janeiro...   \n",
              "92  Rua Cândido Mendes, 16 | Glória, Rio de Janeir...   \n",
              "93  Rua São Luiz Gonzaga, 2330 | Benfica, Rio de J...   \n",
              "\n",
              "                             Prato  \\\n",
              "0               Fofoquinha da Vila   \n",
              "1               Harmonia do Sertão   \n",
              "2            Croqueta Espetaculosa   \n",
              "3      Nosso Porquinho deu Cuscuz!   \n",
              "4                      Flor do Sol   \n",
              "..                             ...   \n",
              "89               Rabada a pururuca   \n",
              "90              O Sabor do Sucesso   \n",
              "91  Porquinho na cuxxxtela da vaca   \n",
              "92                   Trio trem bão   \n",
              "93              Presentes do Zinho   \n",
              "\n",
              "                                   Descrição do Prato  \n",
              "0   Fofoquinha da VilaBolinho de língua desfiada e...  \n",
              "1   Escondidinho de aipim com carne-seca desfiada,...  \n",
              "2   Croquetas de diferentes tipos de carne de porc...  \n",
              "3   Copa lombo defumado em lenha de macieira, desf...  \n",
              "4   Flor do SolCebola empanada recheada de arroz d...  \n",
              "..                                                ...  \n",
              "89  Rabada desfiada à pururuca acompanhada ao molh...  \n",
              "90  Cesta crocante recheada com lombo suíno desfia...  \n",
              "91  3 bolinhos de costela cremosos, cada um rechea...  \n",
              "92  Três minipães de polvilho com queijo, recheado...  \n",
              "93  Um kit com duas coxinhas de costela suína no b...  \n",
              "\n",
              "[94 rows x 4 columns]"
            ],
            "text/html": [
              "\n",
              "  <div id=\"df-5a31baed-3e0b-4415-8fbe-1acac9745c36\" class=\"colab-df-container\">\n",
              "    <div>\n",
              "<style scoped>\n",
              "    .dataframe tbody tr th:only-of-type {\n",
              "        vertical-align: middle;\n",
              "    }\n",
              "\n",
              "    .dataframe tbody tr th {\n",
              "        vertical-align: top;\n",
              "    }\n",
              "\n",
              "    .dataframe thead th {\n",
              "        text-align: right;\n",
              "    }\n",
              "</style>\n",
              "<table border=\"1\" class=\"dataframe\">\n",
              "  <thead>\n",
              "    <tr style=\"text-align: right;\">\n",
              "      <th></th>\n",
              "      <th>Nome do Estabelecimento</th>\n",
              "      <th>Endereço</th>\n",
              "      <th>Prato</th>\n",
              "      <th>Descrição do Prato</th>\n",
              "    </tr>\n",
              "  </thead>\n",
              "  <tbody>\n",
              "    <tr>\n",
              "      <th>0</th>\n",
              "      <td>Angurmê Culinária Afro-brasileira</td>\n",
              "      <td>Rua Visconde de Abaeté, 123 | Vila Isabel, Rio...</td>\n",
              "      <td>Fofoquinha da Vila</td>\n",
              "      <td>Fofoquinha da VilaBolinho de língua desfiada e...</td>\n",
              "    </tr>\n",
              "    <tr>\n",
              "      <th>1</th>\n",
              "      <td>Antônio’s Nordestino</td>\n",
              "      <td>Rua Ati, 365 | Tanque, Rio de Janeiro - RJ</td>\n",
              "      <td>Harmonia do Sertão</td>\n",
              "      <td>Escondidinho de aipim com carne-seca desfiada,...</td>\n",
              "    </tr>\n",
              "    <tr>\n",
              "      <th>2</th>\n",
              "      <td>Armazém São Thiago</td>\n",
              "      <td>Rua Áurea, 26 | Santa Teresa, Rio de Janeiro - RJ</td>\n",
              "      <td>Croqueta Espetaculosa</td>\n",
              "      <td>Croquetas de diferentes tipos de carne de porc...</td>\n",
              "    </tr>\n",
              "    <tr>\n",
              "      <th>3</th>\n",
              "      <td>Art Chopp</td>\n",
              "      <td>Rua Macembu, 63 Rio de Janeiro - RJ</td>\n",
              "      <td>Nosso Porquinho deu Cuscuz!</td>\n",
              "      <td>Copa lombo defumado em lenha de macieira, desf...</td>\n",
              "    </tr>\n",
              "    <tr>\n",
              "      <th>4</th>\n",
              "      <td>Baixo Gago</td>\n",
              "      <td>Rua Gago Coutinho, 51 | Laranjeiras, Rio de Ja...</td>\n",
              "      <td>Flor do Sol</td>\n",
              "      <td>Flor do SolCebola empanada recheada de arroz d...</td>\n",
              "    </tr>\n",
              "    <tr>\n",
              "      <th>...</th>\n",
              "      <td>...</td>\n",
              "      <td>...</td>\n",
              "      <td>...</td>\n",
              "      <td>...</td>\n",
              "    </tr>\n",
              "    <tr>\n",
              "      <th>89</th>\n",
              "      <td>Varandão do Valqueire</td>\n",
              "      <td>Rua Jambeiro, 433 | Rio de Janeiro - RJ</td>\n",
              "      <td>Rabada a pururuca</td>\n",
              "      <td>Rabada desfiada à pururuca acompanhada ao molh...</td>\n",
              "    </tr>\n",
              "    <tr>\n",
              "      <th>90</th>\n",
              "      <td>Victor Bar</td>\n",
              "      <td>Rua Riachuelo, 32 | Centro, Rio de Janeiro - RJ</td>\n",
              "      <td>O Sabor do Sucesso</td>\n",
              "      <td>Cesta crocante recheada com lombo suíno desfia...</td>\n",
              "    </tr>\n",
              "    <tr>\n",
              "      <th>91</th>\n",
              "      <td>Vigal Bar</td>\n",
              "      <td>Rua Lopo Saraiva, 179 | Tanque, Rio de Janeiro...</td>\n",
              "      <td>Porquinho na cuxxxtela da vaca</td>\n",
              "      <td>3 bolinhos de costela cremosos, cada um rechea...</td>\n",
              "    </tr>\n",
              "    <tr>\n",
              "      <th>92</th>\n",
              "      <td>Vila Rica</td>\n",
              "      <td>Rua Cândido Mendes, 16 | Glória, Rio de Janeir...</td>\n",
              "      <td>Trio trem bão</td>\n",
              "      <td>Três minipães de polvilho com queijo, recheado...</td>\n",
              "    </tr>\n",
              "    <tr>\n",
              "      <th>93</th>\n",
              "      <td>Zinho Bier</td>\n",
              "      <td>Rua São Luiz Gonzaga, 2330 | Benfica, Rio de J...</td>\n",
              "      <td>Presentes do Zinho</td>\n",
              "      <td>Um kit com duas coxinhas de costela suína no b...</td>\n",
              "    </tr>\n",
              "  </tbody>\n",
              "</table>\n",
              "<p>94 rows × 4 columns</p>\n",
              "</div>\n",
              "    <div class=\"colab-df-buttons\">\n",
              "\n",
              "  <div class=\"colab-df-container\">\n",
              "    <button class=\"colab-df-convert\" onclick=\"convertToInteractive('df-5a31baed-3e0b-4415-8fbe-1acac9745c36')\"\n",
              "            title=\"Convert this dataframe to an interactive table.\"\n",
              "            style=\"display:none;\">\n",
              "\n",
              "  <svg xmlns=\"http://www.w3.org/2000/svg\" height=\"24px\" viewBox=\"0 -960 960 960\">\n",
              "    <path d=\"M120-120v-720h720v720H120Zm60-500h600v-160H180v160Zm220 220h160v-160H400v160Zm0 220h160v-160H400v160ZM180-400h160v-160H180v160Zm440 0h160v-160H620v160ZM180-180h160v-160H180v160Zm440 0h160v-160H620v160Z\"/>\n",
              "  </svg>\n",
              "    </button>\n",
              "\n",
              "  <style>\n",
              "    .colab-df-container {\n",
              "      display:flex;\n",
              "      gap: 12px;\n",
              "    }\n",
              "\n",
              "    .colab-df-convert {\n",
              "      background-color: #E8F0FE;\n",
              "      border: none;\n",
              "      border-radius: 50%;\n",
              "      cursor: pointer;\n",
              "      display: none;\n",
              "      fill: #1967D2;\n",
              "      height: 32px;\n",
              "      padding: 0 0 0 0;\n",
              "      width: 32px;\n",
              "    }\n",
              "\n",
              "    .colab-df-convert:hover {\n",
              "      background-color: #E2EBFA;\n",
              "      box-shadow: 0px 1px 2px rgba(60, 64, 67, 0.3), 0px 1px 3px 1px rgba(60, 64, 67, 0.15);\n",
              "      fill: #174EA6;\n",
              "    }\n",
              "\n",
              "    .colab-df-buttons div {\n",
              "      margin-bottom: 4px;\n",
              "    }\n",
              "\n",
              "    [theme=dark] .colab-df-convert {\n",
              "      background-color: #3B4455;\n",
              "      fill: #D2E3FC;\n",
              "    }\n",
              "\n",
              "    [theme=dark] .colab-df-convert:hover {\n",
              "      background-color: #434B5C;\n",
              "      box-shadow: 0px 1px 3px 1px rgba(0, 0, 0, 0.15);\n",
              "      filter: drop-shadow(0px 1px 2px rgba(0, 0, 0, 0.3));\n",
              "      fill: #FFFFFF;\n",
              "    }\n",
              "  </style>\n",
              "\n",
              "    <script>\n",
              "      const buttonEl =\n",
              "        document.querySelector('#df-5a31baed-3e0b-4415-8fbe-1acac9745c36 button.colab-df-convert');\n",
              "      buttonEl.style.display =\n",
              "        google.colab.kernel.accessAllowed ? 'block' : 'none';\n",
              "\n",
              "      async function convertToInteractive(key) {\n",
              "        const element = document.querySelector('#df-5a31baed-3e0b-4415-8fbe-1acac9745c36');\n",
              "        const dataTable =\n",
              "          await google.colab.kernel.invokeFunction('convertToInteractive',\n",
              "                                                    [key], {});\n",
              "        if (!dataTable) return;\n",
              "\n",
              "        const docLinkHtml = 'Like what you see? Visit the ' +\n",
              "          '<a target=\"_blank\" href=https://colab.research.google.com/notebooks/data_table.ipynb>data table notebook</a>'\n",
              "          + ' to learn more about interactive tables.';\n",
              "        element.innerHTML = '';\n",
              "        dataTable['output_type'] = 'display_data';\n",
              "        await google.colab.output.renderOutput(dataTable, element);\n",
              "        const docLink = document.createElement('div');\n",
              "        docLink.innerHTML = docLinkHtml;\n",
              "        element.appendChild(docLink);\n",
              "      }\n",
              "    </script>\n",
              "  </div>\n",
              "\n",
              "\n",
              "<div id=\"df-2088f0f3-366d-41eb-a7bd-4e6cd9569b73\">\n",
              "  <button class=\"colab-df-quickchart\" onclick=\"quickchart('df-2088f0f3-366d-41eb-a7bd-4e6cd9569b73')\"\n",
              "            title=\"Suggest charts\"\n",
              "            style=\"display:none;\">\n",
              "\n",
              "<svg xmlns=\"http://www.w3.org/2000/svg\" height=\"24px\"viewBox=\"0 0 24 24\"\n",
              "     width=\"24px\">\n",
              "    <g>\n",
              "        <path d=\"M19 3H5c-1.1 0-2 .9-2 2v14c0 1.1.9 2 2 2h14c1.1 0 2-.9 2-2V5c0-1.1-.9-2-2-2zM9 17H7v-7h2v7zm4 0h-2V7h2v10zm4 0h-2v-4h2v4z\"/>\n",
              "    </g>\n",
              "</svg>\n",
              "  </button>\n",
              "\n",
              "<style>\n",
              "  .colab-df-quickchart {\n",
              "      --bg-color: #E8F0FE;\n",
              "      --fill-color: #1967D2;\n",
              "      --hover-bg-color: #E2EBFA;\n",
              "      --hover-fill-color: #174EA6;\n",
              "      --disabled-fill-color: #AAA;\n",
              "      --disabled-bg-color: #DDD;\n",
              "  }\n",
              "\n",
              "  [theme=dark] .colab-df-quickchart {\n",
              "      --bg-color: #3B4455;\n",
              "      --fill-color: #D2E3FC;\n",
              "      --hover-bg-color: #434B5C;\n",
              "      --hover-fill-color: #FFFFFF;\n",
              "      --disabled-bg-color: #3B4455;\n",
              "      --disabled-fill-color: #666;\n",
              "  }\n",
              "\n",
              "  .colab-df-quickchart {\n",
              "    background-color: var(--bg-color);\n",
              "    border: none;\n",
              "    border-radius: 50%;\n",
              "    cursor: pointer;\n",
              "    display: none;\n",
              "    fill: var(--fill-color);\n",
              "    height: 32px;\n",
              "    padding: 0;\n",
              "    width: 32px;\n",
              "  }\n",
              "\n",
              "  .colab-df-quickchart:hover {\n",
              "    background-color: var(--hover-bg-color);\n",
              "    box-shadow: 0 1px 2px rgba(60, 64, 67, 0.3), 0 1px 3px 1px rgba(60, 64, 67, 0.15);\n",
              "    fill: var(--button-hover-fill-color);\n",
              "  }\n",
              "\n",
              "  .colab-df-quickchart-complete:disabled,\n",
              "  .colab-df-quickchart-complete:disabled:hover {\n",
              "    background-color: var(--disabled-bg-color);\n",
              "    fill: var(--disabled-fill-color);\n",
              "    box-shadow: none;\n",
              "  }\n",
              "\n",
              "  .colab-df-spinner {\n",
              "    border: 2px solid var(--fill-color);\n",
              "    border-color: transparent;\n",
              "    border-bottom-color: var(--fill-color);\n",
              "    animation:\n",
              "      spin 1s steps(1) infinite;\n",
              "  }\n",
              "\n",
              "  @keyframes spin {\n",
              "    0% {\n",
              "      border-color: transparent;\n",
              "      border-bottom-color: var(--fill-color);\n",
              "      border-left-color: var(--fill-color);\n",
              "    }\n",
              "    20% {\n",
              "      border-color: transparent;\n",
              "      border-left-color: var(--fill-color);\n",
              "      border-top-color: var(--fill-color);\n",
              "    }\n",
              "    30% {\n",
              "      border-color: transparent;\n",
              "      border-left-color: var(--fill-color);\n",
              "      border-top-color: var(--fill-color);\n",
              "      border-right-color: var(--fill-color);\n",
              "    }\n",
              "    40% {\n",
              "      border-color: transparent;\n",
              "      border-right-color: var(--fill-color);\n",
              "      border-top-color: var(--fill-color);\n",
              "    }\n",
              "    60% {\n",
              "      border-color: transparent;\n",
              "      border-right-color: var(--fill-color);\n",
              "    }\n",
              "    80% {\n",
              "      border-color: transparent;\n",
              "      border-right-color: var(--fill-color);\n",
              "      border-bottom-color: var(--fill-color);\n",
              "    }\n",
              "    90% {\n",
              "      border-color: transparent;\n",
              "      border-bottom-color: var(--fill-color);\n",
              "    }\n",
              "  }\n",
              "</style>\n",
              "\n",
              "  <script>\n",
              "    async function quickchart(key) {\n",
              "      const quickchartButtonEl =\n",
              "        document.querySelector('#' + key + ' button');\n",
              "      quickchartButtonEl.disabled = true;  // To prevent multiple clicks.\n",
              "      quickchartButtonEl.classList.add('colab-df-spinner');\n",
              "      try {\n",
              "        const charts = await google.colab.kernel.invokeFunction(\n",
              "            'suggestCharts', [key], {});\n",
              "      } catch (error) {\n",
              "        console.error('Error during call to suggestCharts:', error);\n",
              "      }\n",
              "      quickchartButtonEl.classList.remove('colab-df-spinner');\n",
              "      quickchartButtonEl.classList.add('colab-df-quickchart-complete');\n",
              "    }\n",
              "    (() => {\n",
              "      let quickchartButtonEl =\n",
              "        document.querySelector('#df-2088f0f3-366d-41eb-a7bd-4e6cd9569b73 button');\n",
              "      quickchartButtonEl.style.display =\n",
              "        google.colab.kernel.accessAllowed ? 'block' : 'none';\n",
              "    })();\n",
              "  </script>\n",
              "</div>\n",
              "\n",
              "  <div id=\"id_2f9190c7-76f7-4aee-bf63-767d0faf3f06\">\n",
              "    <style>\n",
              "      .colab-df-generate {\n",
              "        background-color: #E8F0FE;\n",
              "        border: none;\n",
              "        border-radius: 50%;\n",
              "        cursor: pointer;\n",
              "        display: none;\n",
              "        fill: #1967D2;\n",
              "        height: 32px;\n",
              "        padding: 0 0 0 0;\n",
              "        width: 32px;\n",
              "      }\n",
              "\n",
              "      .colab-df-generate:hover {\n",
              "        background-color: #E2EBFA;\n",
              "        box-shadow: 0px 1px 2px rgba(60, 64, 67, 0.3), 0px 1px 3px 1px rgba(60, 64, 67, 0.15);\n",
              "        fill: #174EA6;\n",
              "      }\n",
              "\n",
              "      [theme=dark] .colab-df-generate {\n",
              "        background-color: #3B4455;\n",
              "        fill: #D2E3FC;\n",
              "      }\n",
              "\n",
              "      [theme=dark] .colab-df-generate:hover {\n",
              "        background-color: #434B5C;\n",
              "        box-shadow: 0px 1px 3px 1px rgba(0, 0, 0, 0.15);\n",
              "        filter: drop-shadow(0px 1px 2px rgba(0, 0, 0, 0.3));\n",
              "        fill: #FFFFFF;\n",
              "      }\n",
              "    </style>\n",
              "    <button class=\"colab-df-generate\" onclick=\"generateWithVariable('df')\"\n",
              "            title=\"Generate code using this dataframe.\"\n",
              "            style=\"display:none;\">\n",
              "\n",
              "  <svg xmlns=\"http://www.w3.org/2000/svg\" height=\"24px\"viewBox=\"0 0 24 24\"\n",
              "       width=\"24px\">\n",
              "    <path d=\"M7,19H8.4L18.45,9,17,7.55,7,17.6ZM5,21V16.75L18.45,3.32a2,2,0,0,1,2.83,0l1.4,1.43a1.91,1.91,0,0,1,.58,1.4,1.91,1.91,0,0,1-.58,1.4L9.25,21ZM18.45,9,17,7.55Zm-12,3A5.31,5.31,0,0,0,4.9,8.1,5.31,5.31,0,0,0,1,6.5,5.31,5.31,0,0,0,4.9,4.9,5.31,5.31,0,0,0,6.5,1,5.31,5.31,0,0,0,8.1,4.9,5.31,5.31,0,0,0,12,6.5,5.46,5.46,0,0,0,6.5,12Z\"/>\n",
              "  </svg>\n",
              "    </button>\n",
              "    <script>\n",
              "      (() => {\n",
              "      const buttonEl =\n",
              "        document.querySelector('#id_2f9190c7-76f7-4aee-bf63-767d0faf3f06 button.colab-df-generate');\n",
              "      buttonEl.style.display =\n",
              "        google.colab.kernel.accessAllowed ? 'block' : 'none';\n",
              "\n",
              "      buttonEl.onclick = () => {\n",
              "        google.colab.notebook.generateWithVariable('df');\n",
              "      }\n",
              "      })();\n",
              "    </script>\n",
              "  </div>\n",
              "\n",
              "    </div>\n",
              "  </div>\n"
            ],
            "application/vnd.google.colaboratory.intrinsic+json": {
              "type": "dataframe",
              "variable_name": "df",
              "summary": "{\n  \"name\": \"df\",\n  \"rows\": 94,\n  \"fields\": [\n    {\n      \"column\": \"Nome do Estabelecimento\",\n      \"properties\": {\n        \"dtype\": \"string\",\n        \"num_unique_values\": 94,\n        \"samples\": [\n          \"Buteko em Nome do Pai e do Filho\",\n          \"Bar Samb\\u00f3dromo\",\n          \"Feliz Chopp e Grill\"\n        ],\n        \"semantic_type\": \"\",\n        \"description\": \"\"\n      }\n    },\n    {\n      \"column\": \"Endere\\u00e7o\",\n      \"properties\": {\n        \"dtype\": \"string\",\n        \"num_unique_values\": 94,\n        \"samples\": [\n          \"Rua Bar\\u00e3o de Mesquita, 893 | Andara\\u00ed, Rio de Janeiro - RJ\",\n          \"Avenida Salvador de S\\u00e1, 77 | Cidade Nova, Rio de Janeiro - RJ\",\n          \"Rua Felisbelo Freire, 296 | Ramos, Rio de Janeiro - RJ\"\n        ],\n        \"semantic_type\": \"\",\n        \"description\": \"\"\n      }\n    },\n    {\n      \"column\": \"Prato\",\n      \"properties\": {\n        \"dtype\": \"string\",\n        \"num_unique_values\": 94,\n        \"samples\": [\n          \"Pig Cream\",\n          \"Lambuza\",\n          \"Pururuca \\u00e0 Italiana\"\n        ],\n        \"semantic_type\": \"\",\n        \"description\": \"\"\n      }\n    },\n    {\n      \"column\": \"Descri\\u00e7\\u00e3o do Prato\",\n      \"properties\": {\n        \"dtype\": \"string\",\n        \"num_unique_values\": 94,\n        \"samples\": [\n          \"Massa crocante em formato de cone com recheio cremoso de porco e especiarias, finalizado com granulado de torresmo e pimenta biquinho.\",\n          \"Katsu sando: copa lombo curado e empanado, acompanhado de salada de repolho e picles de pepino no p\\u00e3o brioche e finalizados com maionese especial, molho tonkatsu, furekake de castanha-de-caju e cebolinha.\",\n          \"Espetinho de torresmo e provolone com molho de mostarda e gengibre\"\n        ],\n        \"semantic_type\": \"\",\n        \"description\": \"\"\n      }\n    }\n  ]\n}"
            }
          },
          "metadata": {},
          "execution_count": 206
        }
      ]
    },
    {
      "cell_type": "code",
      "source": [
        "df.to_csv(\"Buteco.csv\")"
      ],
      "metadata": {
        "id": "m8ivP2F15yfA"
      },
      "execution_count": null,
      "outputs": []
    },
    {
      "cell_type": "markdown",
      "source": [
        "Agradeço a todos que estiveram até aqui.\n",
        "\n",
        "Podem me contatar sobre quaisquer dúvidas pelo meu email: pedropm@id.uff.br."
      ],
      "metadata": {
        "id": "nvuwjLfcko_q"
      }
    }
  ]
}
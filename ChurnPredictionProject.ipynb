{
  "nbformat": 4,
  "nbformat_minor": 0,
  "metadata": {
    "colab": {
      "provenance": [],
      "toc_visible": true,
      "authorship_tag": "ABX9TyNqgW9HU267MvcXZPQMIQEB",
      "include_colab_link": true
    },
    "kernelspec": {
      "name": "python3",
      "display_name": "Python 3"
    },
    "language_info": {
      "name": "python"
    }
  },
  "cells": [
    {
      "cell_type": "markdown",
      "metadata": {
        "id": "view-in-github",
        "colab_type": "text"
      },
      "source": [
        "<a href=\"https://colab.research.google.com/github/PedroPinheiroMachado/Portfolio/blob/main/ChurnPredictionProject.ipynb\" target=\"_parent\"><img src=\"https://colab.research.google.com/assets/colab-badge.svg\" alt=\"Open In Colab\"/></a>"
      ]
    },
    {
      "cell_type": "markdown",
      "source": [
        "#Ideia do Projeto\n",
        "\n",
        "O contexto inicial se dá em uma empresa na qual fornece algum tipo de seriço, por exemplo: Netflix.\n",
        "\n",
        "É interessante para essas empresas, manter os usuários que já possuem uma assinatura, assim nasce o *Churn rate* ou simplesmente *Churn*.\n",
        "\n",
        "*Churn* nada mais é a taxa de clientes que foram perdidos no período de tempo observado.\n",
        "\n",
        "Sua importância fica ainda mais evidente uma vez que, o Custo de Aquisição de Cliente (CAC) tende a ser maior do que o custo para manter.\n",
        "\n",
        "Assim, fica evidente que é interessante saber qual cliente está incliando a cancelar o serviço, nosso desafio então, é descobrir quais clientes são."
      ],
      "metadata": {
        "id": "aTQONW3ps_-a"
      }
    },
    {
      "cell_type": "markdown",
      "source": [
        "##Aquisição dos Dados\n",
        "\n",
        "Veja que entendido o problema, fica evidente que são necessários dados de alto valor estratégico. Assim, se tornam dados escassos.\n",
        "\n",
        "Os dados utilizados neste projeto são originalmente disponibilizados na plataforma de ensino da [IBM Developer](https://developer.ibm.com/technologies/data-science/patterns/predict-customer-churn-using-watson-studio-and-jupyter-notebooks/#)\n",
        "\n",
        "Atualmente podemos encontrar este *dataset* no [link](https://raw.githubusercontent.com/carlosfab/dsnp2/master/datasets/WA_Fn-UseC_-Telco-Customer-Churn.csv), que possui o escopo de uma empresa padrão de telecomunicações\n",
        "\n",
        "Por mais que ocorra a falta de um dicionário de variáveis, podemos extrair o seu significado por seus nomes."
      ],
      "metadata": {
        "id": "B4PoWx6yxSdT"
      }
    },
    {
      "cell_type": "code",
      "execution_count": 427,
      "metadata": {
        "colab": {
          "base_uri": "https://localhost:8080/",
          "height": 342
        },
        "id": "OU95TPSSs57V",
        "outputId": "7eb2ce91-9ff2-4b89-8626-540c11a88b29"
      },
      "outputs": [
        {
          "output_type": "execute_result",
          "data": {
            "text/plain": [
              "   customerID  gender  SeniorCitizen Partner Dependents  tenure PhoneService  \\\n",
              "0  7590-VHVEG  Female              0     Yes         No       1           No   \n",
              "1  5575-GNVDE    Male              0      No         No      34          Yes   \n",
              "2  3668-QPYBK    Male              0      No         No       2          Yes   \n",
              "3  7795-CFOCW    Male              0      No         No      45           No   \n",
              "4  9237-HQITU  Female              0      No         No       2          Yes   \n",
              "\n",
              "      MultipleLines InternetService OnlineSecurity  ... DeviceProtection  \\\n",
              "0  No phone service             DSL             No  ...               No   \n",
              "1                No             DSL            Yes  ...              Yes   \n",
              "2                No             DSL            Yes  ...               No   \n",
              "3  No phone service             DSL            Yes  ...              Yes   \n",
              "4                No     Fiber optic             No  ...               No   \n",
              "\n",
              "  TechSupport StreamingTV StreamingMovies        Contract PaperlessBilling  \\\n",
              "0          No          No              No  Month-to-month              Yes   \n",
              "1          No          No              No        One year               No   \n",
              "2          No          No              No  Month-to-month              Yes   \n",
              "3         Yes          No              No        One year               No   \n",
              "4          No          No              No  Month-to-month              Yes   \n",
              "\n",
              "               PaymentMethod MonthlyCharges  TotalCharges Churn  \n",
              "0           Electronic check          29.85         29.85    No  \n",
              "1               Mailed check          56.95        1889.5    No  \n",
              "2               Mailed check          53.85        108.15   Yes  \n",
              "3  Bank transfer (automatic)          42.30       1840.75    No  \n",
              "4           Electronic check          70.70        151.65   Yes  \n",
              "\n",
              "[5 rows x 21 columns]"
            ],
            "text/html": [
              "\n",
              "  <div id=\"df-f86d1196-5e72-45ac-b1bf-5e364ae8b62f\" class=\"colab-df-container\">\n",
              "    <div>\n",
              "<style scoped>\n",
              "    .dataframe tbody tr th:only-of-type {\n",
              "        vertical-align: middle;\n",
              "    }\n",
              "\n",
              "    .dataframe tbody tr th {\n",
              "        vertical-align: top;\n",
              "    }\n",
              "\n",
              "    .dataframe thead th {\n",
              "        text-align: right;\n",
              "    }\n",
              "</style>\n",
              "<table border=\"1\" class=\"dataframe\">\n",
              "  <thead>\n",
              "    <tr style=\"text-align: right;\">\n",
              "      <th></th>\n",
              "      <th>customerID</th>\n",
              "      <th>gender</th>\n",
              "      <th>SeniorCitizen</th>\n",
              "      <th>Partner</th>\n",
              "      <th>Dependents</th>\n",
              "      <th>tenure</th>\n",
              "      <th>PhoneService</th>\n",
              "      <th>MultipleLines</th>\n",
              "      <th>InternetService</th>\n",
              "      <th>OnlineSecurity</th>\n",
              "      <th>...</th>\n",
              "      <th>DeviceProtection</th>\n",
              "      <th>TechSupport</th>\n",
              "      <th>StreamingTV</th>\n",
              "      <th>StreamingMovies</th>\n",
              "      <th>Contract</th>\n",
              "      <th>PaperlessBilling</th>\n",
              "      <th>PaymentMethod</th>\n",
              "      <th>MonthlyCharges</th>\n",
              "      <th>TotalCharges</th>\n",
              "      <th>Churn</th>\n",
              "    </tr>\n",
              "  </thead>\n",
              "  <tbody>\n",
              "    <tr>\n",
              "      <th>0</th>\n",
              "      <td>7590-VHVEG</td>\n",
              "      <td>Female</td>\n",
              "      <td>0</td>\n",
              "      <td>Yes</td>\n",
              "      <td>No</td>\n",
              "      <td>1</td>\n",
              "      <td>No</td>\n",
              "      <td>No phone service</td>\n",
              "      <td>DSL</td>\n",
              "      <td>No</td>\n",
              "      <td>...</td>\n",
              "      <td>No</td>\n",
              "      <td>No</td>\n",
              "      <td>No</td>\n",
              "      <td>No</td>\n",
              "      <td>Month-to-month</td>\n",
              "      <td>Yes</td>\n",
              "      <td>Electronic check</td>\n",
              "      <td>29.85</td>\n",
              "      <td>29.85</td>\n",
              "      <td>No</td>\n",
              "    </tr>\n",
              "    <tr>\n",
              "      <th>1</th>\n",
              "      <td>5575-GNVDE</td>\n",
              "      <td>Male</td>\n",
              "      <td>0</td>\n",
              "      <td>No</td>\n",
              "      <td>No</td>\n",
              "      <td>34</td>\n",
              "      <td>Yes</td>\n",
              "      <td>No</td>\n",
              "      <td>DSL</td>\n",
              "      <td>Yes</td>\n",
              "      <td>...</td>\n",
              "      <td>Yes</td>\n",
              "      <td>No</td>\n",
              "      <td>No</td>\n",
              "      <td>No</td>\n",
              "      <td>One year</td>\n",
              "      <td>No</td>\n",
              "      <td>Mailed check</td>\n",
              "      <td>56.95</td>\n",
              "      <td>1889.5</td>\n",
              "      <td>No</td>\n",
              "    </tr>\n",
              "    <tr>\n",
              "      <th>2</th>\n",
              "      <td>3668-QPYBK</td>\n",
              "      <td>Male</td>\n",
              "      <td>0</td>\n",
              "      <td>No</td>\n",
              "      <td>No</td>\n",
              "      <td>2</td>\n",
              "      <td>Yes</td>\n",
              "      <td>No</td>\n",
              "      <td>DSL</td>\n",
              "      <td>Yes</td>\n",
              "      <td>...</td>\n",
              "      <td>No</td>\n",
              "      <td>No</td>\n",
              "      <td>No</td>\n",
              "      <td>No</td>\n",
              "      <td>Month-to-month</td>\n",
              "      <td>Yes</td>\n",
              "      <td>Mailed check</td>\n",
              "      <td>53.85</td>\n",
              "      <td>108.15</td>\n",
              "      <td>Yes</td>\n",
              "    </tr>\n",
              "    <tr>\n",
              "      <th>3</th>\n",
              "      <td>7795-CFOCW</td>\n",
              "      <td>Male</td>\n",
              "      <td>0</td>\n",
              "      <td>No</td>\n",
              "      <td>No</td>\n",
              "      <td>45</td>\n",
              "      <td>No</td>\n",
              "      <td>No phone service</td>\n",
              "      <td>DSL</td>\n",
              "      <td>Yes</td>\n",
              "      <td>...</td>\n",
              "      <td>Yes</td>\n",
              "      <td>Yes</td>\n",
              "      <td>No</td>\n",
              "      <td>No</td>\n",
              "      <td>One year</td>\n",
              "      <td>No</td>\n",
              "      <td>Bank transfer (automatic)</td>\n",
              "      <td>42.30</td>\n",
              "      <td>1840.75</td>\n",
              "      <td>No</td>\n",
              "    </tr>\n",
              "    <tr>\n",
              "      <th>4</th>\n",
              "      <td>9237-HQITU</td>\n",
              "      <td>Female</td>\n",
              "      <td>0</td>\n",
              "      <td>No</td>\n",
              "      <td>No</td>\n",
              "      <td>2</td>\n",
              "      <td>Yes</td>\n",
              "      <td>No</td>\n",
              "      <td>Fiber optic</td>\n",
              "      <td>No</td>\n",
              "      <td>...</td>\n",
              "      <td>No</td>\n",
              "      <td>No</td>\n",
              "      <td>No</td>\n",
              "      <td>No</td>\n",
              "      <td>Month-to-month</td>\n",
              "      <td>Yes</td>\n",
              "      <td>Electronic check</td>\n",
              "      <td>70.70</td>\n",
              "      <td>151.65</td>\n",
              "      <td>Yes</td>\n",
              "    </tr>\n",
              "  </tbody>\n",
              "</table>\n",
              "<p>5 rows × 21 columns</p>\n",
              "</div>\n",
              "    <div class=\"colab-df-buttons\">\n",
              "\n",
              "  <div class=\"colab-df-container\">\n",
              "    <button class=\"colab-df-convert\" onclick=\"convertToInteractive('df-f86d1196-5e72-45ac-b1bf-5e364ae8b62f')\"\n",
              "            title=\"Convert this dataframe to an interactive table.\"\n",
              "            style=\"display:none;\">\n",
              "\n",
              "  <svg xmlns=\"http://www.w3.org/2000/svg\" height=\"24px\" viewBox=\"0 -960 960 960\">\n",
              "    <path d=\"M120-120v-720h720v720H120Zm60-500h600v-160H180v160Zm220 220h160v-160H400v160Zm0 220h160v-160H400v160ZM180-400h160v-160H180v160Zm440 0h160v-160H620v160ZM180-180h160v-160H180v160Zm440 0h160v-160H620v160Z\"/>\n",
              "  </svg>\n",
              "    </button>\n",
              "\n",
              "  <style>\n",
              "    .colab-df-container {\n",
              "      display:flex;\n",
              "      gap: 12px;\n",
              "    }\n",
              "\n",
              "    .colab-df-convert {\n",
              "      background-color: #E8F0FE;\n",
              "      border: none;\n",
              "      border-radius: 50%;\n",
              "      cursor: pointer;\n",
              "      display: none;\n",
              "      fill: #1967D2;\n",
              "      height: 32px;\n",
              "      padding: 0 0 0 0;\n",
              "      width: 32px;\n",
              "    }\n",
              "\n",
              "    .colab-df-convert:hover {\n",
              "      background-color: #E2EBFA;\n",
              "      box-shadow: 0px 1px 2px rgba(60, 64, 67, 0.3), 0px 1px 3px 1px rgba(60, 64, 67, 0.15);\n",
              "      fill: #174EA6;\n",
              "    }\n",
              "\n",
              "    .colab-df-buttons div {\n",
              "      margin-bottom: 4px;\n",
              "    }\n",
              "\n",
              "    [theme=dark] .colab-df-convert {\n",
              "      background-color: #3B4455;\n",
              "      fill: #D2E3FC;\n",
              "    }\n",
              "\n",
              "    [theme=dark] .colab-df-convert:hover {\n",
              "      background-color: #434B5C;\n",
              "      box-shadow: 0px 1px 3px 1px rgba(0, 0, 0, 0.15);\n",
              "      filter: drop-shadow(0px 1px 2px rgba(0, 0, 0, 0.3));\n",
              "      fill: #FFFFFF;\n",
              "    }\n",
              "  </style>\n",
              "\n",
              "    <script>\n",
              "      const buttonEl =\n",
              "        document.querySelector('#df-f86d1196-5e72-45ac-b1bf-5e364ae8b62f button.colab-df-convert');\n",
              "      buttonEl.style.display =\n",
              "        google.colab.kernel.accessAllowed ? 'block' : 'none';\n",
              "\n",
              "      async function convertToInteractive(key) {\n",
              "        const element = document.querySelector('#df-f86d1196-5e72-45ac-b1bf-5e364ae8b62f');\n",
              "        const dataTable =\n",
              "          await google.colab.kernel.invokeFunction('convertToInteractive',\n",
              "                                                    [key], {});\n",
              "        if (!dataTable) return;\n",
              "\n",
              "        const docLinkHtml = 'Like what you see? Visit the ' +\n",
              "          '<a target=\"_blank\" href=https://colab.research.google.com/notebooks/data_table.ipynb>data table notebook</a>'\n",
              "          + ' to learn more about interactive tables.';\n",
              "        element.innerHTML = '';\n",
              "        dataTable['output_type'] = 'display_data';\n",
              "        await google.colab.output.renderOutput(dataTable, element);\n",
              "        const docLink = document.createElement('div');\n",
              "        docLink.innerHTML = docLinkHtml;\n",
              "        element.appendChild(docLink);\n",
              "      }\n",
              "    </script>\n",
              "  </div>\n",
              "\n",
              "\n",
              "    <div id=\"df-726408ae-25aa-499a-a0e8-b974a67fecf9\">\n",
              "      <button class=\"colab-df-quickchart\" onclick=\"quickchart('df-726408ae-25aa-499a-a0e8-b974a67fecf9')\"\n",
              "                title=\"Suggest charts\"\n",
              "                style=\"display:none;\">\n",
              "\n",
              "<svg xmlns=\"http://www.w3.org/2000/svg\" height=\"24px\"viewBox=\"0 0 24 24\"\n",
              "     width=\"24px\">\n",
              "    <g>\n",
              "        <path d=\"M19 3H5c-1.1 0-2 .9-2 2v14c0 1.1.9 2 2 2h14c1.1 0 2-.9 2-2V5c0-1.1-.9-2-2-2zM9 17H7v-7h2v7zm4 0h-2V7h2v10zm4 0h-2v-4h2v4z\"/>\n",
              "    </g>\n",
              "</svg>\n",
              "      </button>\n",
              "\n",
              "<style>\n",
              "  .colab-df-quickchart {\n",
              "      --bg-color: #E8F0FE;\n",
              "      --fill-color: #1967D2;\n",
              "      --hover-bg-color: #E2EBFA;\n",
              "      --hover-fill-color: #174EA6;\n",
              "      --disabled-fill-color: #AAA;\n",
              "      --disabled-bg-color: #DDD;\n",
              "  }\n",
              "\n",
              "  [theme=dark] .colab-df-quickchart {\n",
              "      --bg-color: #3B4455;\n",
              "      --fill-color: #D2E3FC;\n",
              "      --hover-bg-color: #434B5C;\n",
              "      --hover-fill-color: #FFFFFF;\n",
              "      --disabled-bg-color: #3B4455;\n",
              "      --disabled-fill-color: #666;\n",
              "  }\n",
              "\n",
              "  .colab-df-quickchart {\n",
              "    background-color: var(--bg-color);\n",
              "    border: none;\n",
              "    border-radius: 50%;\n",
              "    cursor: pointer;\n",
              "    display: none;\n",
              "    fill: var(--fill-color);\n",
              "    height: 32px;\n",
              "    padding: 0;\n",
              "    width: 32px;\n",
              "  }\n",
              "\n",
              "  .colab-df-quickchart:hover {\n",
              "    background-color: var(--hover-bg-color);\n",
              "    box-shadow: 0 1px 2px rgba(60, 64, 67, 0.3), 0 1px 3px 1px rgba(60, 64, 67, 0.15);\n",
              "    fill: var(--button-hover-fill-color);\n",
              "  }\n",
              "\n",
              "  .colab-df-quickchart-complete:disabled,\n",
              "  .colab-df-quickchart-complete:disabled:hover {\n",
              "    background-color: var(--disabled-bg-color);\n",
              "    fill: var(--disabled-fill-color);\n",
              "    box-shadow: none;\n",
              "  }\n",
              "\n",
              "  .colab-df-spinner {\n",
              "    border: 2px solid var(--fill-color);\n",
              "    border-color: transparent;\n",
              "    border-bottom-color: var(--fill-color);\n",
              "    animation:\n",
              "      spin 1s steps(1) infinite;\n",
              "  }\n",
              "\n",
              "  @keyframes spin {\n",
              "    0% {\n",
              "      border-color: transparent;\n",
              "      border-bottom-color: var(--fill-color);\n",
              "      border-left-color: var(--fill-color);\n",
              "    }\n",
              "    20% {\n",
              "      border-color: transparent;\n",
              "      border-left-color: var(--fill-color);\n",
              "      border-top-color: var(--fill-color);\n",
              "    }\n",
              "    30% {\n",
              "      border-color: transparent;\n",
              "      border-left-color: var(--fill-color);\n",
              "      border-top-color: var(--fill-color);\n",
              "      border-right-color: var(--fill-color);\n",
              "    }\n",
              "    40% {\n",
              "      border-color: transparent;\n",
              "      border-right-color: var(--fill-color);\n",
              "      border-top-color: var(--fill-color);\n",
              "    }\n",
              "    60% {\n",
              "      border-color: transparent;\n",
              "      border-right-color: var(--fill-color);\n",
              "    }\n",
              "    80% {\n",
              "      border-color: transparent;\n",
              "      border-right-color: var(--fill-color);\n",
              "      border-bottom-color: var(--fill-color);\n",
              "    }\n",
              "    90% {\n",
              "      border-color: transparent;\n",
              "      border-bottom-color: var(--fill-color);\n",
              "    }\n",
              "  }\n",
              "</style>\n",
              "\n",
              "      <script>\n",
              "        async function quickchart(key) {\n",
              "          const quickchartButtonEl =\n",
              "            document.querySelector('#' + key + ' button');\n",
              "          quickchartButtonEl.disabled = true;  // To prevent multiple clicks.\n",
              "          quickchartButtonEl.classList.add('colab-df-spinner');\n",
              "          try {\n",
              "            const charts = await google.colab.kernel.invokeFunction(\n",
              "                'suggestCharts', [key], {});\n",
              "          } catch (error) {\n",
              "            console.error('Error during call to suggestCharts:', error);\n",
              "          }\n",
              "          quickchartButtonEl.classList.remove('colab-df-spinner');\n",
              "          quickchartButtonEl.classList.add('colab-df-quickchart-complete');\n",
              "        }\n",
              "        (() => {\n",
              "          let quickchartButtonEl =\n",
              "            document.querySelector('#df-726408ae-25aa-499a-a0e8-b974a67fecf9 button');\n",
              "          quickchartButtonEl.style.display =\n",
              "            google.colab.kernel.accessAllowed ? 'block' : 'none';\n",
              "        })();\n",
              "      </script>\n",
              "    </div>\n",
              "\n",
              "    </div>\n",
              "  </div>\n"
            ],
            "application/vnd.google.colaboratory.intrinsic+json": {
              "type": "dataframe",
              "variable_name": "df"
            }
          },
          "metadata": {},
          "execution_count": 427
        }
      ],
      "source": [
        "import pandas as pd\n",
        "import matplotlib.pyplot as plt\n",
        "import seaborn as sns\n",
        "import numpy as np\n",
        "\n",
        "\n",
        "from scipy.stats import chi2_contingency\n",
        "from sklearn.model_selection import train_test_split, GridSearchCV, StratifiedKFold, cross_val_score\n",
        "from sklearn.preprocessing import LabelEncoder, StandardScaler\n",
        "from sklearn.metrics import roc_auc_score, confusion_matrix, classification_report\n",
        "from xgboost import XGBClassifier\n",
        "\n",
        "\n",
        "\n",
        "path = 'https://raw.githubusercontent.com/carlosfab/dsnp2/master/datasets/WA_Fn-UseC_-Telco-Customer-Churn.csv'\n",
        "\n",
        "df = pd.read_csv(path)\n",
        "df.head()"
      ]
    },
    {
      "cell_type": "markdown",
      "source": [
        "##Separação Treino e Teste\n",
        "\n",
        "Como queremos simular fielmente a entrada de novos dados, iremos como primeiro passo, separar nossos dados em conjunto de treino e conjunto de teste.\n",
        "\n",
        "Como temos por volta de 7000 dados, iremos usar 80% para treino e 20% para teste."
      ],
      "metadata": {
        "id": "MN3R5tePEwyx"
      }
    },
    {
      "cell_type": "code",
      "source": [
        "print(f\"Possuímos:{df.shape[0]} Clientes\")\n",
        "print(f\"Possuímos:{df.shape[1]} Features\")"
      ],
      "metadata": {
        "colab": {
          "base_uri": "https://localhost:8080/"
        },
        "id": "U0qPKn-myvxT",
        "outputId": "7f231214-e6f9-4eb6-e5f2-dc96dd72291e"
      },
      "execution_count": 428,
      "outputs": [
        {
          "output_type": "stream",
          "name": "stdout",
          "text": [
            "Possuímos:7043 Clientes\n",
            "Possuímos:21 Features\n"
          ]
        }
      ]
    },
    {
      "cell_type": "code",
      "source": [
        "X = df.drop(\"Churn\", axis =1 )\n",
        "y= df[\"Churn\"]\n",
        "\n",
        "\n",
        "X_train, X_test, y_train, y_test = train_test_split(X,y, test_size = 0.2, random_state=123)"
      ],
      "metadata": {
        "id": "ziNoG5S8FjLy"
      },
      "execution_count": 429,
      "outputs": []
    },
    {
      "cell_type": "code",
      "source": [
        "df_treino = pd.concat([X_train, y_train],axis=1)"
      ],
      "metadata": {
        "id": "TbWCP-yOFxVF"
      },
      "execution_count": 430,
      "outputs": []
    },
    {
      "cell_type": "markdown",
      "source": [
        "##Análise Exploratória dos Dados\n",
        "\n",
        "`customerID`: Id do Cliente\n",
        "\n",
        "`gender`: Gênero do Cliente (Female ou Male)\n",
        "\n",
        "`SeniorCitizen`: Se o cliente é idoso (0 ou 1)\n",
        "\n",
        "`Partner`: Se o cliente possui parceiro (No, Yes)\n",
        "\n",
        "`Dependents`: Se o cliente possui dependentes (No, Yes)\n",
        "\n",
        "`tenure`: Número de mêses que o cliente está com a empresa\n",
        "\n",
        "`PhoneService`: Se possui Serviço de celular (No, Yes)\n",
        "\n",
        "`MultipleLines` Se possui mais de uma linha de serviço de celular (No PhoneService, No, Yes)\n",
        "\n",
        "`InternetService`: Se possui internet (No, DSL, Fiber optic)\n",
        "\n",
        "`OnlineSecurity`:Se possui algum tipo de segurança online (No, Yes, No internet service)\n",
        "\n",
        "`OnlineBackup`: Se possui algum tipo de serviço capaz de fazer backup online (No, Yes, No internet service)\n",
        "\n",
        "`DeviceProtection`: Se possui algum tipo de serviço que ofereça proteção dos seus aparelhos (No, Yes, No internet service)\n",
        "\n",
        "`TechSupport`:Se possui Assistência Técnica (No, Yes, No internet service)\n",
        "\n",
        "`StreamingTV`: Se possui algum Streaming de TV (No, Yes, No internet service)\n",
        "\n",
        "`StreamingMovies`:Se possui algum Streaming de Filmes (No, Yes, No internet service)\n",
        "\n",
        "`Contract`: O tipo de contrato (Month-to-month, One year, Two year)\n",
        "\n",
        "`PaperlessBilling`: Se o cliente possui cobrança sem papel(No, Yes)\n",
        "\n",
        "`PaymentMethod`: Método de pagamento (Electronic check, Mailed check, Bank transfer (automatic), credit card (automatic)\n",
        "\n",
        "`MonthlyCharges`: O quanto é cobrado mensalmente\n",
        "\n",
        "`TotalCharges`: O quanto foi gasto por cada cliente\n",
        "\n",
        "`Churn`: Se o cliente fez churn (No, Yes)"
      ],
      "metadata": {
        "id": "dYZJ1I5Y0YVy"
      }
    },
    {
      "cell_type": "markdown",
      "source": [
        "Pra cada Variável do *dataset* realizei uma análise rápida de quais eram seus domínios de valores.\n",
        "\n",
        "A fim de deixar nosso código sucinto, reservei o direito de mostrar apenas 1."
      ],
      "metadata": {
        "id": "JaxvoNBY6r-x"
      }
    },
    {
      "cell_type": "code",
      "source": [
        "df_treino[\"gender\"].unique()"
      ],
      "metadata": {
        "colab": {
          "base_uri": "https://localhost:8080/"
        },
        "id": "ctNuXwxQ1X2k",
        "outputId": "c4c1bbc7-278f-4648-d4cf-9ef47572743f"
      },
      "execution_count": 431,
      "outputs": [
        {
          "output_type": "execute_result",
          "data": {
            "text/plain": [
              "array(['Male', 'Female'], dtype=object)"
            ]
          },
          "metadata": {},
          "execution_count": 431
        }
      ]
    },
    {
      "cell_type": "markdown",
      "source": [
        "###Tratar os tipos das variáveis"
      ],
      "metadata": {
        "id": "XopabVNutg7V"
      }
    },
    {
      "cell_type": "markdown",
      "source": [
        "Nosso *dataset* não possui nenhum dado não nulo, temos `MonthlyCharges` como único float, `SeniorCitizen`, `tenure`, como int e todas as outras como object.\n",
        "\n",
        "Percebemos que claramente `SeniorCitizen` e `TotalCharges` estam no tipo errado.\n"
      ],
      "metadata": {
        "id": "4tMAJAc8_VWe"
      }
    },
    {
      "cell_type": "code",
      "source": [
        "df_treino.info()"
      ],
      "metadata": {
        "colab": {
          "base_uri": "https://localhost:8080/"
        },
        "id": "r22o_VhK0ClG",
        "outputId": "7c460cee-753d-42e2-8dd7-7e210734d6d0"
      },
      "execution_count": 432,
      "outputs": [
        {
          "output_type": "stream",
          "name": "stdout",
          "text": [
            "<class 'pandas.core.frame.DataFrame'>\n",
            "Index: 5634 entries, 6924 to 3582\n",
            "Data columns (total 21 columns):\n",
            " #   Column            Non-Null Count  Dtype  \n",
            "---  ------            --------------  -----  \n",
            " 0   customerID        5634 non-null   object \n",
            " 1   gender            5634 non-null   object \n",
            " 2   SeniorCitizen     5634 non-null   int64  \n",
            " 3   Partner           5634 non-null   object \n",
            " 4   Dependents        5634 non-null   object \n",
            " 5   tenure            5634 non-null   int64  \n",
            " 6   PhoneService      5634 non-null   object \n",
            " 7   MultipleLines     5634 non-null   object \n",
            " 8   InternetService   5634 non-null   object \n",
            " 9   OnlineSecurity    5634 non-null   object \n",
            " 10  OnlineBackup      5634 non-null   object \n",
            " 11  DeviceProtection  5634 non-null   object \n",
            " 12  TechSupport       5634 non-null   object \n",
            " 13  StreamingTV       5634 non-null   object \n",
            " 14  StreamingMovies   5634 non-null   object \n",
            " 15  Contract          5634 non-null   object \n",
            " 16  PaperlessBilling  5634 non-null   object \n",
            " 17  PaymentMethod     5634 non-null   object \n",
            " 18  MonthlyCharges    5634 non-null   float64\n",
            " 19  TotalCharges      5634 non-null   object \n",
            " 20  Churn             5634 non-null   object \n",
            "dtypes: float64(1), int64(2), object(18)\n",
            "memory usage: 968.3+ KB\n"
          ]
        }
      ]
    },
    {
      "cell_type": "code",
      "source": [
        "df_treino[\"TotalCharges\"].value_counts()"
      ],
      "metadata": {
        "colab": {
          "base_uri": "https://localhost:8080/",
          "height": 490
        },
        "id": "axW5CIDFDjWV",
        "outputId": "905e469b-492d-4c75-d5c8-f195fb331828"
      },
      "execution_count": 433,
      "outputs": [
        {
          "output_type": "execute_result",
          "data": {
            "text/plain": [
              "TotalCharges\n",
              "20.2       10\n",
              "19.75       9\n",
              "            8\n",
              "19.9        7\n",
              "20.05       6\n",
              "           ..\n",
              "1847.55     1\n",
              "139.35      1\n",
              "495.15      1\n",
              "1732.95     1\n",
              "445.95      1\n",
              "Name: count, Length: 5281, dtype: int64"
            ],
            "text/html": [
              "<div>\n",
              "<style scoped>\n",
              "    .dataframe tbody tr th:only-of-type {\n",
              "        vertical-align: middle;\n",
              "    }\n",
              "\n",
              "    .dataframe tbody tr th {\n",
              "        vertical-align: top;\n",
              "    }\n",
              "\n",
              "    .dataframe thead th {\n",
              "        text-align: right;\n",
              "    }\n",
              "</style>\n",
              "<table border=\"1\" class=\"dataframe\">\n",
              "  <thead>\n",
              "    <tr style=\"text-align: right;\">\n",
              "      <th></th>\n",
              "      <th>count</th>\n",
              "    </tr>\n",
              "    <tr>\n",
              "      <th>TotalCharges</th>\n",
              "      <th></th>\n",
              "    </tr>\n",
              "  </thead>\n",
              "  <tbody>\n",
              "    <tr>\n",
              "      <th>20.2</th>\n",
              "      <td>10</td>\n",
              "    </tr>\n",
              "    <tr>\n",
              "      <th>19.75</th>\n",
              "      <td>9</td>\n",
              "    </tr>\n",
              "    <tr>\n",
              "      <th></th>\n",
              "      <td>8</td>\n",
              "    </tr>\n",
              "    <tr>\n",
              "      <th>19.9</th>\n",
              "      <td>7</td>\n",
              "    </tr>\n",
              "    <tr>\n",
              "      <th>20.05</th>\n",
              "      <td>6</td>\n",
              "    </tr>\n",
              "    <tr>\n",
              "      <th>...</th>\n",
              "      <td>...</td>\n",
              "    </tr>\n",
              "    <tr>\n",
              "      <th>1847.55</th>\n",
              "      <td>1</td>\n",
              "    </tr>\n",
              "    <tr>\n",
              "      <th>139.35</th>\n",
              "      <td>1</td>\n",
              "    </tr>\n",
              "    <tr>\n",
              "      <th>495.15</th>\n",
              "      <td>1</td>\n",
              "    </tr>\n",
              "    <tr>\n",
              "      <th>1732.95</th>\n",
              "      <td>1</td>\n",
              "    </tr>\n",
              "    <tr>\n",
              "      <th>445.95</th>\n",
              "      <td>1</td>\n",
              "    </tr>\n",
              "  </tbody>\n",
              "</table>\n",
              "<p>5281 rows × 1 columns</p>\n",
              "</div><br><label><b>dtype:</b> int64</label>"
            ]
          },
          "metadata": {},
          "execution_count": 433
        }
      ]
    },
    {
      "cell_type": "markdown",
      "source": [
        "####Resolvendo o problema de TotalCharges"
      ],
      "metadata": {
        "id": "6NhrGC4Rtpgf"
      }
    },
    {
      "cell_type": "markdown",
      "source": [
        "Perceba que temos um problema em `TotalCharges`, temos 11 linhas como \" \", primeiramente iremos transformar essas 11 linhas em nulo e depois iremos transformar para float. Uma vez que sem tratar minimamente não conseguimos realizar a transformação."
      ],
      "metadata": {
        "id": "hlSRhSIlDtiI"
      }
    },
    {
      "cell_type": "code",
      "source": [
        "df_treino[\"TotalCharges\"]= df_treino[\"TotalCharges\"].replace(\" \", \"NaN\")"
      ],
      "metadata": {
        "id": "b_iGUPCfGeUL"
      },
      "execution_count": 434,
      "outputs": []
    },
    {
      "cell_type": "code",
      "source": [
        "df_treino[\"SeniorCitizen\"] = df_treino[\"SeniorCitizen\"].astype(object)\n",
        "df_treino[\"TotalCharges\"] = df_treino[\"TotalCharges\"].astype(float)"
      ],
      "metadata": {
        "id": "Bod7Z5HA_SNS"
      },
      "execution_count": 435,
      "outputs": []
    },
    {
      "cell_type": "code",
      "source": [
        "df_treino.info()"
      ],
      "metadata": {
        "colab": {
          "base_uri": "https://localhost:8080/"
        },
        "id": "dfCsv-tQ_8Ow",
        "outputId": "88828403-97e1-4789-ef05-f5e6b8c143db"
      },
      "execution_count": 436,
      "outputs": [
        {
          "output_type": "stream",
          "name": "stdout",
          "text": [
            "<class 'pandas.core.frame.DataFrame'>\n",
            "Index: 5634 entries, 6924 to 3582\n",
            "Data columns (total 21 columns):\n",
            " #   Column            Non-Null Count  Dtype  \n",
            "---  ------            --------------  -----  \n",
            " 0   customerID        5634 non-null   object \n",
            " 1   gender            5634 non-null   object \n",
            " 2   SeniorCitizen     5634 non-null   object \n",
            " 3   Partner           5634 non-null   object \n",
            " 4   Dependents        5634 non-null   object \n",
            " 5   tenure            5634 non-null   int64  \n",
            " 6   PhoneService      5634 non-null   object \n",
            " 7   MultipleLines     5634 non-null   object \n",
            " 8   InternetService   5634 non-null   object \n",
            " 9   OnlineSecurity    5634 non-null   object \n",
            " 10  OnlineBackup      5634 non-null   object \n",
            " 11  DeviceProtection  5634 non-null   object \n",
            " 12  TechSupport       5634 non-null   object \n",
            " 13  StreamingTV       5634 non-null   object \n",
            " 14  StreamingMovies   5634 non-null   object \n",
            " 15  Contract          5634 non-null   object \n",
            " 16  PaperlessBilling  5634 non-null   object \n",
            " 17  PaymentMethod     5634 non-null   object \n",
            " 18  MonthlyCharges    5634 non-null   float64\n",
            " 19  TotalCharges      5626 non-null   float64\n",
            " 20  Churn             5634 non-null   object \n",
            "dtypes: float64(2), int64(1), object(18)\n",
            "memory usage: 968.3+ KB\n"
          ]
        }
      ]
    },
    {
      "cell_type": "markdown",
      "source": [
        "Agora temos 8 dados ausentes no nosso *dataset*, poderiamos utilizar técnicas diferentes para resolver esta situação, mas utilizarei o método de substituir pela média de `TotalCharges`.\n",
        "\n",
        "Como estamos tratando nossos dados na base treino, terei de salvar a média para aplicar como método de pré-processamento no teste."
      ],
      "metadata": {
        "id": "SYQhvYCK0RJP"
      }
    },
    {
      "cell_type": "code",
      "source": [
        "media = df_treino[\"TotalCharges\"].mean()\n",
        "df_treino[\"TotalCharges\"]=df_treino[\"TotalCharges\"].fillna(media)\n",
        "df_treino[\"TotalCharges\"].isna().sum()"
      ],
      "metadata": {
        "colab": {
          "base_uri": "https://localhost:8080/"
        },
        "id": "o-m8tNGhBZGr",
        "outputId": "7dce5728-233a-4041-a8a9-2983051cf426"
      },
      "execution_count": 437,
      "outputs": [
        {
          "output_type": "execute_result",
          "data": {
            "text/plain": [
              "np.int64(0)"
            ]
          },
          "metadata": {},
          "execution_count": 437
        }
      ]
    },
    {
      "cell_type": "markdown",
      "source": [
        "###Dados Desbalanceados"
      ],
      "metadata": {
        "id": "84gX5_kctw-x"
      }
    },
    {
      "cell_type": "markdown",
      "source": [
        "Podemos ver que Temos um *dataset* desbalanceado, faz sentido, uma vez que é normal manter seus clientes e não é a maioria que irá sair (se fosse assim, deveria revisar de forma completa a empresa e seu serviço oferecido)\n",
        "\n",
        "Temos um *churn* de `26%`, isso significa que: 28% dos clientes cancelaram o serviço no período estudado."
      ],
      "metadata": {
        "id": "bYFw6-uEirFN"
      }
    },
    {
      "cell_type": "code",
      "source": [
        "fig, ax = plt.subplots(figsize=(10,5))\n",
        "countplot = sns.countplot(x=\"Churn\", data=df_treino,ax=ax)\n",
        "ax.set_title(\"Contagem de Churn\")\n",
        "ax.set_xlabel(\"Churn\")\n",
        "ax.set_ylabel(\"Número de Clientes\")\n",
        "plt.tight_layout()\n",
        "plt.show()"
      ],
      "metadata": {
        "colab": {
          "base_uri": "https://localhost:8080/",
          "height": 507
        },
        "id": "cjcWBoUUh4_Z",
        "outputId": "baf37f3f-a76d-42fe-934a-5e42a4f8df48"
      },
      "execution_count": 414,
      "outputs": [
        {
          "output_type": "display_data",
          "data": {
            "text/plain": [
              "<Figure size 1000x500 with 1 Axes>"
            ],
            "image/png": "[encoded data removed]"
          },
          "metadata": {}
        }
      ]
    },
    {
      "cell_type": "code",
      "source": [
        "df_treino[\"Churn\"].value_counts()"
      ],
      "metadata": {
        "colab": {
          "base_uri": "https://localhost:8080/",
          "height": 178
        },
        "id": "fA8OkwSBOM7s",
        "outputId": "b24d40ee-e540-42d7-95a8-f642e82cfab2"
      },
      "execution_count": 438,
      "outputs": [
        {
          "output_type": "execute_result",
          "data": {
            "text/plain": [
              "Churn\n",
              "No     4159\n",
              "Yes    1475\n",
              "Name: count, dtype: int64"
            ],
            "text/html": [
              "<div>\n",
              "<style scoped>\n",
              "    .dataframe tbody tr th:only-of-type {\n",
              "        vertical-align: middle;\n",
              "    }\n",
              "\n",
              "    .dataframe tbody tr th {\n",
              "        vertical-align: top;\n",
              "    }\n",
              "\n",
              "    .dataframe thead th {\n",
              "        text-align: right;\n",
              "    }\n",
              "</style>\n",
              "<table border=\"1\" class=\"dataframe\">\n",
              "  <thead>\n",
              "    <tr style=\"text-align: right;\">\n",
              "      <th></th>\n",
              "      <th>count</th>\n",
              "    </tr>\n",
              "    <tr>\n",
              "      <th>Churn</th>\n",
              "      <th></th>\n",
              "    </tr>\n",
              "  </thead>\n",
              "  <tbody>\n",
              "    <tr>\n",
              "      <th>No</th>\n",
              "      <td>4159</td>\n",
              "    </tr>\n",
              "    <tr>\n",
              "      <th>Yes</th>\n",
              "      <td>1475</td>\n",
              "    </tr>\n",
              "  </tbody>\n",
              "</table>\n",
              "</div><br><label><b>dtype:</b> int64</label>"
            ]
          },
          "metadata": {},
          "execution_count": 438
        }
      ]
    },
    {
      "cell_type": "code",
      "source": [
        "round(df_treino[\"Churn\"].value_counts()/df_treino.shape[0],2)"
      ],
      "metadata": {
        "colab": {
          "base_uri": "https://localhost:8080/",
          "height": 178
        },
        "id": "1i6cjXnEjKtl",
        "outputId": "48c00b34-ef9f-47fc-9d08-7c138da3a046"
      },
      "execution_count": 439,
      "outputs": [
        {
          "output_type": "execute_result",
          "data": {
            "text/plain": [
              "Churn\n",
              "No     0.74\n",
              "Yes    0.26\n",
              "Name: count, dtype: float64"
            ],
            "text/html": [
              "<div>\n",
              "<style scoped>\n",
              "    .dataframe tbody tr th:only-of-type {\n",
              "        vertical-align: middle;\n",
              "    }\n",
              "\n",
              "    .dataframe tbody tr th {\n",
              "        vertical-align: top;\n",
              "    }\n",
              "\n",
              "    .dataframe thead th {\n",
              "        text-align: right;\n",
              "    }\n",
              "</style>\n",
              "<table border=\"1\" class=\"dataframe\">\n",
              "  <thead>\n",
              "    <tr style=\"text-align: right;\">\n",
              "      <th></th>\n",
              "      <th>count</th>\n",
              "    </tr>\n",
              "    <tr>\n",
              "      <th>Churn</th>\n",
              "      <th></th>\n",
              "    </tr>\n",
              "  </thead>\n",
              "  <tbody>\n",
              "    <tr>\n",
              "      <th>No</th>\n",
              "      <td>0.74</td>\n",
              "    </tr>\n",
              "    <tr>\n",
              "      <th>Yes</th>\n",
              "      <td>0.26</td>\n",
              "    </tr>\n",
              "  </tbody>\n",
              "</table>\n",
              "</div><br><label><b>dtype:</b> float64</label>"
            ]
          },
          "metadata": {},
          "execution_count": 439
        }
      ]
    },
    {
      "cell_type": "markdown",
      "source": [
        "###Entendendo a Correlação das variáveis"
      ],
      "metadata": {
        "id": "H7NyRW3huAdQ"
      }
    },
    {
      "cell_type": "markdown",
      "source": [
        "Perceba que várias features possuem correlação, por exemplo, pegue `MonthlyCharges`, `TotalCharges`, `tenure`, parece ser bem justo que `MonthlyCharges`*`tenure` = `TotalCharges`\n",
        "\n",
        "Várias outras possuem um certo nível de dependência, exemplo: `InternetService` e qualquer outro serviço online, uma vez que pra ter o serviço online é necessário ter a internet.\n",
        "\n"
      ],
      "metadata": {
        "id": "TC5w5KhGpMgh"
      }
    },
    {
      "cell_type": "code",
      "source": [
        "df_treino.info()"
      ],
      "metadata": {
        "colab": {
          "base_uri": "https://localhost:8080/"
        },
        "id": "z1uQxOiZnix_",
        "outputId": "4a294acc-1c2b-41b3-ad8c-2d9bae5d6647"
      },
      "execution_count": 440,
      "outputs": [
        {
          "output_type": "stream",
          "name": "stdout",
          "text": [
            "<class 'pandas.core.frame.DataFrame'>\n",
            "Index: 5634 entries, 6924 to 3582\n",
            "Data columns (total 21 columns):\n",
            " #   Column            Non-Null Count  Dtype  \n",
            "---  ------            --------------  -----  \n",
            " 0   customerID        5634 non-null   object \n",
            " 1   gender            5634 non-null   object \n",
            " 2   SeniorCitizen     5634 non-null   object \n",
            " 3   Partner           5634 non-null   object \n",
            " 4   Dependents        5634 non-null   object \n",
            " 5   tenure            5634 non-null   int64  \n",
            " 6   PhoneService      5634 non-null   object \n",
            " 7   MultipleLines     5634 non-null   object \n",
            " 8   InternetService   5634 non-null   object \n",
            " 9   OnlineSecurity    5634 non-null   object \n",
            " 10  OnlineBackup      5634 non-null   object \n",
            " 11  DeviceProtection  5634 non-null   object \n",
            " 12  TechSupport       5634 non-null   object \n",
            " 13  StreamingTV       5634 non-null   object \n",
            " 14  StreamingMovies   5634 non-null   object \n",
            " 15  Contract          5634 non-null   object \n",
            " 16  PaperlessBilling  5634 non-null   object \n",
            " 17  PaymentMethod     5634 non-null   object \n",
            " 18  MonthlyCharges    5634 non-null   float64\n",
            " 19  TotalCharges      5634 non-null   float64\n",
            " 20  Churn             5634 non-null   object \n",
            "dtypes: float64(2), int64(1), object(18)\n",
            "memory usage: 968.3+ KB\n"
          ]
        }
      ]
    },
    {
      "cell_type": "code",
      "source": [
        "df_internet = df_treino[df_treino[\"InternetService\"]==\"No\"]"
      ],
      "metadata": {
        "id": "_1WeHsgeqHjj"
      },
      "execution_count": 441,
      "outputs": []
    },
    {
      "cell_type": "markdown",
      "source": [
        "Veja que `PhoneService`, `OnlineSecurity`,`OnlineBackup` `DeviceProtection`, `TechSupport`,`StreamingTV`,`StreamingMovies` Estão definidas,uma vez que não possua serviço de internet, como pensavamos."
      ],
      "metadata": {
        "id": "IUsWQ-x_qgIM"
      }
    },
    {
      "cell_type": "code",
      "source": [
        "df_internet.nunique()"
      ],
      "metadata": {
        "colab": {
          "base_uri": "https://localhost:8080/",
          "height": 743
        },
        "id": "X3U4qAUXqVip",
        "outputId": "f3244918-31c2-4de8-9bf9-cee8280a49fa"
      },
      "execution_count": 442,
      "outputs": [
        {
          "output_type": "execute_result",
          "data": {
            "text/plain": [
              "customerID          1226\n",
              "gender                 2\n",
              "SeniorCitizen          2\n",
              "Partner                2\n",
              "Dependents             2\n",
              "tenure                73\n",
              "PhoneService           1\n",
              "MultipleLines          2\n",
              "InternetService        1\n",
              "OnlineSecurity         1\n",
              "OnlineBackup           1\n",
              "DeviceProtection       1\n",
              "TechSupport            1\n",
              "StreamingTV            1\n",
              "StreamingMovies        1\n",
              "Contract               3\n",
              "PaperlessBilling       2\n",
              "PaymentMethod          4\n",
              "MonthlyCharges       119\n",
              "TotalCharges        1118\n",
              "Churn                  2\n",
              "dtype: int64"
            ],
            "text/html": [
              "<div>\n",
              "<style scoped>\n",
              "    .dataframe tbody tr th:only-of-type {\n",
              "        vertical-align: middle;\n",
              "    }\n",
              "\n",
              "    .dataframe tbody tr th {\n",
              "        vertical-align: top;\n",
              "    }\n",
              "\n",
              "    .dataframe thead th {\n",
              "        text-align: right;\n",
              "    }\n",
              "</style>\n",
              "<table border=\"1\" class=\"dataframe\">\n",
              "  <thead>\n",
              "    <tr style=\"text-align: right;\">\n",
              "      <th></th>\n",
              "      <th>0</th>\n",
              "    </tr>\n",
              "  </thead>\n",
              "  <tbody>\n",
              "    <tr>\n",
              "      <th>customerID</th>\n",
              "      <td>1226</td>\n",
              "    </tr>\n",
              "    <tr>\n",
              "      <th>gender</th>\n",
              "      <td>2</td>\n",
              "    </tr>\n",
              "    <tr>\n",
              "      <th>SeniorCitizen</th>\n",
              "      <td>2</td>\n",
              "    </tr>\n",
              "    <tr>\n",
              "      <th>Partner</th>\n",
              "      <td>2</td>\n",
              "    </tr>\n",
              "    <tr>\n",
              "      <th>Dependents</th>\n",
              "      <td>2</td>\n",
              "    </tr>\n",
              "    <tr>\n",
              "      <th>tenure</th>\n",
              "      <td>73</td>\n",
              "    </tr>\n",
              "    <tr>\n",
              "      <th>PhoneService</th>\n",
              "      <td>1</td>\n",
              "    </tr>\n",
              "    <tr>\n",
              "      <th>MultipleLines</th>\n",
              "      <td>2</td>\n",
              "    </tr>\n",
              "    <tr>\n",
              "      <th>InternetService</th>\n",
              "      <td>1</td>\n",
              "    </tr>\n",
              "    <tr>\n",
              "      <th>OnlineSecurity</th>\n",
              "      <td>1</td>\n",
              "    </tr>\n",
              "    <tr>\n",
              "      <th>OnlineBackup</th>\n",
              "      <td>1</td>\n",
              "    </tr>\n",
              "    <tr>\n",
              "      <th>DeviceProtection</th>\n",
              "      <td>1</td>\n",
              "    </tr>\n",
              "    <tr>\n",
              "      <th>TechSupport</th>\n",
              "      <td>1</td>\n",
              "    </tr>\n",
              "    <tr>\n",
              "      <th>StreamingTV</th>\n",
              "      <td>1</td>\n",
              "    </tr>\n",
              "    <tr>\n",
              "      <th>StreamingMovies</th>\n",
              "      <td>1</td>\n",
              "    </tr>\n",
              "    <tr>\n",
              "      <th>Contract</th>\n",
              "      <td>3</td>\n",
              "    </tr>\n",
              "    <tr>\n",
              "      <th>PaperlessBilling</th>\n",
              "      <td>2</td>\n",
              "    </tr>\n",
              "    <tr>\n",
              "      <th>PaymentMethod</th>\n",
              "      <td>4</td>\n",
              "    </tr>\n",
              "    <tr>\n",
              "      <th>MonthlyCharges</th>\n",
              "      <td>119</td>\n",
              "    </tr>\n",
              "    <tr>\n",
              "      <th>TotalCharges</th>\n",
              "      <td>1118</td>\n",
              "    </tr>\n",
              "    <tr>\n",
              "      <th>Churn</th>\n",
              "      <td>2</td>\n",
              "    </tr>\n",
              "  </tbody>\n",
              "</table>\n",
              "</div><br><label><b>dtype:</b> int64</label>"
            ]
          },
          "metadata": {},
          "execution_count": 442
        }
      ]
    },
    {
      "cell_type": "markdown",
      "source": [
        "####Variáveis Numéricas"
      ],
      "metadata": {
        "id": "bIxlz749uRRk"
      }
    },
    {
      "cell_type": "markdown",
      "source": [
        "Podemos ver que `TotalCharges` e `tenure`ja possuem grande correlação, obviamente que nao temos o par `tenure` e `MonthlyCharges` juntos comparados com `TotalCharges`."
      ],
      "metadata": {
        "id": "zoCx7GdvsH2N"
      }
    },
    {
      "cell_type": "code",
      "source": [
        "fig,ax = plt.subplots(figsize=(10,5))\n",
        "corr= df_treino[[\"tenure\",\"MonthlyCharges\",\"TotalCharges\"]].corr()\n",
        "\n",
        "sns.heatmap(corr, xticklabels=corr.columns, yticklabels=corr.columns,\n",
        "            linewidths=.1, cmap=\"coolwarm\", ax=ax)\n",
        "fig.suptitle(\"Heatmap de Correlação\")\n",
        "ax.set_title(\"Desbalanceado\")\n",
        "\n",
        "plt.tight_layout()\n",
        "plt.show()\n",
        "\n"
      ],
      "metadata": {
        "colab": {
          "base_uri": "https://localhost:8080/",
          "height": 512
        },
        "id": "FdvS1neNmLoA",
        "outputId": "677ef265-5dcb-40af-a810-11b72c4cee14"
      },
      "execution_count": 443,
      "outputs": [
        {
          "output_type": "display_data",
          "data": {
            "text/plain": [
              "<Figure size 1000x500 with 2 Axes>"
            ],
            "image/png": "[encoded data removed]"
          },
          "metadata": {}
        }
      ]
    },
    {
      "cell_type": "markdown",
      "source": [
        "Vemos que tem uma diferença de média -4 unidades.\n",
        "\n",
        "Como temos poucas features, iremos continuar sem realizar a troca, uma vez que possui divergências de valores.\n",
        "\n",
        "Se nosso *dataset* possuí-se muitas colunas, realizar a transformação de variáveis seria mais interessante."
      ],
      "metadata": {
        "id": "Hnauzr9Fs4qw"
      }
    },
    {
      "cell_type": "code",
      "source": [
        "df2 = df_treino.copy()\n",
        "\n",
        "df2[\"Total\"] = df2[\"tenure\"]*df2[\"MonthlyCharges\"]\n",
        "(df2[\"Total\"]-df2[\"TotalCharges\"]).mean()"
      ],
      "metadata": {
        "colab": {
          "base_uri": "https://localhost:8080/"
        },
        "id": "6cLCbWfLsaKA",
        "outputId": "a5cc07be-64c8-42bd-ea74-0fcd089eee18"
      },
      "execution_count": 444,
      "outputs": [
        {
          "output_type": "execute_result",
          "data": {
            "text/plain": [
              "np.float64(-3.610489131991645)"
            ]
          },
          "metadata": {},
          "execution_count": 444
        }
      ]
    },
    {
      "cell_type": "markdown",
      "source": [
        "####Variávies Categóricas\n",
        "\n",
        "\n",
        "\n"
      ],
      "metadata": {
        "id": "rNOtwuvstZKH"
      }
    },
    {
      "cell_type": "markdown",
      "source": [
        "É evidente que não é possível realizar uma matriz de correlação com valores categóricos, assim utilizaremos o método Cramér's V, não entraremos a fundo como funciona, mas usa a distribuição qui-quadrada para medir a associação entre as variáveis.\n",
        "\n",
        "Os valores estão entre [0,1] perto de 0 associamento fraco, perto de 1,  forte."
      ],
      "metadata": {
        "id": "ccmS9i1OugrD"
      }
    },
    {
      "cell_type": "code",
      "source": [
        "def cramers_v(x, y):\n",
        "    matriz_corr = pd.crosstab(x, y)\n",
        "    chi2 = chi2_contingency(matriz_corr)[0]\n",
        "    n = matriz_corr.sum().sum()\n",
        "    phi2 = chi2 / n\n",
        "    r, k = matriz_corr.shape\n",
        "    return np.sqrt(phi2 / min(k - 1, r - 1))\n",
        "\n",
        "for i in [\"OnlineSecurity\",\"OnlineBackup\",\"DeviceProtection\",\"TechSupport\",\"StreamingTV\",\"StreamingMovies\"]:\n",
        "  print(cramers_v(df_treino[i],df_treino[\"InternetService\"]),\":\",i)\n",
        "\n",
        "print(cramers_v(df_treino[\"PhoneService\"],df_treino[\"MultipleLines\"]))\n"
      ],
      "metadata": {
        "colab": {
          "base_uri": "https://localhost:8080/"
        },
        "id": "n5DUJYZ7swT7",
        "outputId": "b84c9e6c-134d-472e-aa7e-bcdcaacc1403"
      },
      "execution_count": 445,
      "outputs": [
        {
          "output_type": "stream",
          "name": "stdout",
          "text": [
            "0.7259025437776624 : OnlineSecurity\n",
            "0.7071781145516178 : OnlineBackup\n",
            "0.7071216921497138 : DeviceProtection\n",
            "0.7222514395437228 : TechSupport\n",
            "0.7173389309724816 : StreamingTV\n",
            "0.7171356253143111 : StreamingMovies\n",
            "1.0\n"
          ]
        }
      ]
    },
    {
      "cell_type": "markdown",
      "source": [
        "Todos possuem uma associação forte, mas não são números absurdos, não farei nenhuma transformação (nossa base possui apenas 21 colunas).\n",
        "\n",
        "Resolvi também realizar o teste de `PhoneService` e `MultipleLines`, o teste resultou em um valor de 1, vamos entender melhor."
      ],
      "metadata": {
        "id": "dUet-oh8w-vJ"
      }
    },
    {
      "cell_type": "markdown",
      "source": [
        "###Tratando PhoneService e MultipleLines"
      ],
      "metadata": {
        "id": "OIzvqk1Mxnq9"
      }
    },
    {
      "cell_type": "markdown",
      "source": [
        "Como vimos antes, o teste de Cramer's V, resultou que ambos possuem o mesmo significado.\n",
        "\n",
        "É evidente, observe que `MultipleLines` possui como respotas: \"No phone Service\": isto já engloba metade dos casos de `PhoneSerice`, \"No\" e \"Yes\" que acabam por mapear todos os outros casos.\n",
        "\n",
        "Assim, `PhoneService` está totalmente englobado em `MultipleLines`.\n",
        "\n",
        "Como `MultipleLines` possui mais informações, iremos retirar a coluna `PhoneService`.\n",
        "\n",
        "Não esqueça que devemos fazer isso no teste."
      ],
      "metadata": {
        "id": "wsa9gYv9xsI6"
      }
    },
    {
      "cell_type": "code",
      "source": [
        "df_treino.drop(\"PhoneService\",axis=1,inplace=True)\n",
        "df_treino.columns"
      ],
      "metadata": {
        "colab": {
          "base_uri": "https://localhost:8080/"
        },
        "id": "O22u3e8Mx2Tn",
        "outputId": "139cd975-dad0-4f66-e123-25e79900fd85"
      },
      "execution_count": 446,
      "outputs": [
        {
          "output_type": "execute_result",
          "data": {
            "text/plain": [
              "Index(['customerID', 'gender', 'SeniorCitizen', 'Partner', 'Dependents',\n",
              "       'tenure', 'MultipleLines', 'InternetService', 'OnlineSecurity',\n",
              "       'OnlineBackup', 'DeviceProtection', 'TechSupport', 'StreamingTV',\n",
              "       'StreamingMovies', 'Contract', 'PaperlessBilling', 'PaymentMethod',\n",
              "       'MonthlyCharges', 'TotalCharges', 'Churn'],\n",
              "      dtype='object')"
            ]
          },
          "metadata": {},
          "execution_count": 446
        }
      ]
    },
    {
      "cell_type": "markdown",
      "source": [
        "##Preparar os Dados\n",
        "Neste momento, nosso dado ainda não está pronto para ser cosumido por um modelo de m.l. Temos Variáveis categóricas com mais de 2 classes e Nosso target (`Churn`) está Nominal (Yes, No) e não (0,1).\n",
        "\n",
        "Veja que nossos dados possuem 3 variáveis numéricas, e cada uma com seu domínio, Neste projeto, usarei o xgboost que tem como base o sistema de arvóres.\n",
        "É de conhecimento que não se é necessário realizar transformações tais como Normalização ou padronização nestes casos.\n",
        "\n",
        "Porém como usaremos um boosted tree, podemos ter melhores resultados caso fizermos qualquer tipo de tratamento de escala.\n",
        "\n",
        "Veja que temos customerID no nosso *dataset*, devemos retirá-lo também"
      ],
      "metadata": {
        "id": "8oO-tDw7z6mb"
      }
    },
    {
      "cell_type": "code",
      "source": [
        "df_treino = df_treino.drop(\"customerID\",axis=1)"
      ],
      "metadata": {
        "id": "779YtHWlqiCR"
      },
      "execution_count": 447,
      "outputs": []
    },
    {
      "cell_type": "code",
      "source": [
        "# pré processar as variáveis\n",
        "binary_var = df_treino.nunique()[df_treino.nunique() == 2].keys().tolist()\n",
        "num_var = [col for col in df_treino.select_dtypes(['int', 'float']).columns.tolist() if col not in binary_var]\n",
        "cat_var = [col for col in df_treino.columns.tolist() if col not in binary_var + num_var]\n",
        "\n",
        "# criar uma cópia do dataframe\n",
        "df_proc = df_treino.copy()\n",
        "\n",
        "# Label Encoding para as variáveis Binárias\n",
        "le = LabelEncoder()\n",
        "for i in binary_var:\n",
        "    df_proc[i] = le.fit_transform(df_proc[i])\n",
        "\n",
        "# Encoding para colunas categóricas com múltiplas classes\n",
        "df_proc = pd.get_dummies(df_proc, columns=cat_var, dtype=int)\n",
        "\n",
        "# ver as 5 primeiras entradas do novo dataframe\n",
        "df_proc.head()"
      ],
      "metadata": {
        "colab": {
          "base_uri": "https://localhost:8080/",
          "height": 290
        },
        "id": "br-1GYUt2yxx",
        "outputId": "6d9187b9-318f-4358-b07f-4884aa02e304"
      },
      "execution_count": 450,
      "outputs": [
        {
          "output_type": "execute_result",
          "data": {
            "text/plain": [
              "      gender  SeniorCitizen  Partner  Dependents  tenure  PaperlessBilling  \\\n",
              "6924       1              0        0           0       1                 1   \n",
              "5249       1              0        0           1      72                 0   \n",
              "5852       1              1        1           0      21                 1   \n",
              "3597       1              0        1           0      25                 1   \n",
              "4147       1              1        1           0      71                 0   \n",
              "\n",
              "      MonthlyCharges  TotalCharges  Churn  MultipleLines_No  ...  \\\n",
              "6924           69.35         69.35      1                 1  ...   \n",
              "5249           67.20       4671.70      0                 0  ...   \n",
              "5852           69.10       1474.75      1                 1  ...   \n",
              "3597           95.70       2338.35      0                 1  ...   \n",
              "4147           24.85       1901.00      0                 0  ...   \n",
              "\n",
              "      StreamingMovies_No  StreamingMovies_No internet service  \\\n",
              "6924                   1                                    0   \n",
              "5249                   0                                    0   \n",
              "5852                   1                                    0   \n",
              "3597                   0                                    0   \n",
              "4147                   0                                    1   \n",
              "\n",
              "      StreamingMovies_Yes  Contract_Month-to-month  Contract_One year  \\\n",
              "6924                    0                        1                  0   \n",
              "5249                    1                        0                  0   \n",
              "5852                    0                        1                  0   \n",
              "3597                    1                        1                  0   \n",
              "4147                    0                        0                  0   \n",
              "\n",
              "      Contract_Two year  PaymentMethod_Bank transfer (automatic)  \\\n",
              "6924                  0                                        0   \n",
              "5249                  1                                        0   \n",
              "5852                  0                                        0   \n",
              "3597                  0                                        0   \n",
              "4147                  1                                        1   \n",
              "\n",
              "      PaymentMethod_Credit card (automatic)  PaymentMethod_Electronic check  \\\n",
              "6924                                      0                               1   \n",
              "5249                                      1                               0   \n",
              "5852                                      0                               1   \n",
              "3597                                      1                               0   \n",
              "4147                                      0                               0   \n",
              "\n",
              "      PaymentMethod_Mailed check  \n",
              "6924                           0  \n",
              "5249                           0  \n",
              "5852                           0  \n",
              "3597                           0  \n",
              "4147                           0  \n",
              "\n",
              "[5 rows x 40 columns]"
            ],
            "text/html": [
              "\n",
              "  <div id=\"df-e54ee4ec-4cca-4c54-82c4-8b0e73be0c15\" class=\"colab-df-container\">\n",
              "    <div>\n",
              "<style scoped>\n",
              "    .dataframe tbody tr th:only-of-type {\n",
              "        vertical-align: middle;\n",
              "    }\n",
              "\n",
              "    .dataframe tbody tr th {\n",
              "        vertical-align: top;\n",
              "    }\n",
              "\n",
              "    .dataframe thead th {\n",
              "        text-align: right;\n",
              "    }\n",
              "</style>\n",
              "<table border=\"1\" class=\"dataframe\">\n",
              "  <thead>\n",
              "    <tr style=\"text-align: right;\">\n",
              "      <th></th>\n",
              "      <th>gender</th>\n",
              "      <th>SeniorCitizen</th>\n",
              "      <th>Partner</th>\n",
              "      <th>Dependents</th>\n",
              "      <th>tenure</th>\n",
              "      <th>PaperlessBilling</th>\n",
              "      <th>MonthlyCharges</th>\n",
              "      <th>TotalCharges</th>\n",
              "      <th>Churn</th>\n",
              "      <th>MultipleLines_No</th>\n",
              "      <th>...</th>\n",
              "      <th>StreamingMovies_No</th>\n",
              "      <th>StreamingMovies_No internet service</th>\n",
              "      <th>StreamingMovies_Yes</th>\n",
              "      <th>Contract_Month-to-month</th>\n",
              "      <th>Contract_One year</th>\n",
              "      <th>Contract_Two year</th>\n",
              "      <th>PaymentMethod_Bank transfer (automatic)</th>\n",
              "      <th>PaymentMethod_Credit card (automatic)</th>\n",
              "      <th>PaymentMethod_Electronic check</th>\n",
              "      <th>PaymentMethod_Mailed check</th>\n",
              "    </tr>\n",
              "  </thead>\n",
              "  <tbody>\n",
              "    <tr>\n",
              "      <th>6924</th>\n",
              "      <td>1</td>\n",
              "      <td>0</td>\n",
              "      <td>0</td>\n",
              "      <td>0</td>\n",
              "      <td>1</td>\n",
              "      <td>1</td>\n",
              "      <td>69.35</td>\n",
              "      <td>69.35</td>\n",
              "      <td>1</td>\n",
              "      <td>1</td>\n",
              "      <td>...</td>\n",
              "      <td>1</td>\n",
              "      <td>0</td>\n",
              "      <td>0</td>\n",
              "      <td>1</td>\n",
              "      <td>0</td>\n",
              "      <td>0</td>\n",
              "      <td>0</td>\n",
              "      <td>0</td>\n",
              "      <td>1</td>\n",
              "      <td>0</td>\n",
              "    </tr>\n",
              "    <tr>\n",
              "      <th>5249</th>\n",
              "      <td>1</td>\n",
              "      <td>0</td>\n",
              "      <td>0</td>\n",
              "      <td>1</td>\n",
              "      <td>72</td>\n",
              "      <td>0</td>\n",
              "      <td>67.20</td>\n",
              "      <td>4671.70</td>\n",
              "      <td>0</td>\n",
              "      <td>0</td>\n",
              "      <td>...</td>\n",
              "      <td>0</td>\n",
              "      <td>0</td>\n",
              "      <td>1</td>\n",
              "      <td>0</td>\n",
              "      <td>0</td>\n",
              "      <td>1</td>\n",
              "      <td>0</td>\n",
              "      <td>1</td>\n",
              "      <td>0</td>\n",
              "      <td>0</td>\n",
              "    </tr>\n",
              "    <tr>\n",
              "      <th>5852</th>\n",
              "      <td>1</td>\n",
              "      <td>1</td>\n",
              "      <td>1</td>\n",
              "      <td>0</td>\n",
              "      <td>21</td>\n",
              "      <td>1</td>\n",
              "      <td>69.10</td>\n",
              "      <td>1474.75</td>\n",
              "      <td>1</td>\n",
              "      <td>1</td>\n",
              "      <td>...</td>\n",
              "      <td>1</td>\n",
              "      <td>0</td>\n",
              "      <td>0</td>\n",
              "      <td>1</td>\n",
              "      <td>0</td>\n",
              "      <td>0</td>\n",
              "      <td>0</td>\n",
              "      <td>0</td>\n",
              "      <td>1</td>\n",
              "      <td>0</td>\n",
              "    </tr>\n",
              "    <tr>\n",
              "      <th>3597</th>\n",
              "      <td>1</td>\n",
              "      <td>0</td>\n",
              "      <td>1</td>\n",
              "      <td>0</td>\n",
              "      <td>25</td>\n",
              "      <td>1</td>\n",
              "      <td>95.70</td>\n",
              "      <td>2338.35</td>\n",
              "      <td>0</td>\n",
              "      <td>1</td>\n",
              "      <td>...</td>\n",
              "      <td>0</td>\n",
              "      <td>0</td>\n",
              "      <td>1</td>\n",
              "      <td>1</td>\n",
              "      <td>0</td>\n",
              "      <td>0</td>\n",
              "      <td>0</td>\n",
              "      <td>1</td>\n",
              "      <td>0</td>\n",
              "      <td>0</td>\n",
              "    </tr>\n",
              "    <tr>\n",
              "      <th>4147</th>\n",
              "      <td>1</td>\n",
              "      <td>1</td>\n",
              "      <td>1</td>\n",
              "      <td>0</td>\n",
              "      <td>71</td>\n",
              "      <td>0</td>\n",
              "      <td>24.85</td>\n",
              "      <td>1901.00</td>\n",
              "      <td>0</td>\n",
              "      <td>0</td>\n",
              "      <td>...</td>\n",
              "      <td>0</td>\n",
              "      <td>1</td>\n",
              "      <td>0</td>\n",
              "      <td>0</td>\n",
              "      <td>0</td>\n",
              "      <td>1</td>\n",
              "      <td>1</td>\n",
              "      <td>0</td>\n",
              "      <td>0</td>\n",
              "      <td>0</td>\n",
              "    </tr>\n",
              "  </tbody>\n",
              "</table>\n",
              "<p>5 rows × 40 columns</p>\n",
              "</div>\n",
              "    <div class=\"colab-df-buttons\">\n",
              "\n",
              "  <div class=\"colab-df-container\">\n",
              "    <button class=\"colab-df-convert\" onclick=\"convertToInteractive('df-e54ee4ec-4cca-4c54-82c4-8b0e73be0c15')\"\n",
              "            title=\"Convert this dataframe to an interactive table.\"\n",
              "            style=\"display:none;\">\n",
              "\n",
              "  <svg xmlns=\"http://www.w3.org/2000/svg\" height=\"24px\" viewBox=\"0 -960 960 960\">\n",
              "    <path d=\"M120-120v-720h720v720H120Zm60-500h600v-160H180v160Zm220 220h160v-160H400v160Zm0 220h160v-160H400v160ZM180-400h160v-160H180v160Zm440 0h160v-160H620v160ZM180-180h160v-160H180v160Zm440 0h160v-160H620v160Z\"/>\n",
              "  </svg>\n",
              "    </button>\n",
              "\n",
              "  <style>\n",
              "    .colab-df-container {\n",
              "      display:flex;\n",
              "      gap: 12px;\n",
              "    }\n",
              "\n",
              "    .colab-df-convert {\n",
              "      background-color: #E8F0FE;\n",
              "      border: none;\n",
              "      border-radius: 50%;\n",
              "      cursor: pointer;\n",
              "      display: none;\n",
              "      fill: #1967D2;\n",
              "      height: 32px;\n",
              "      padding: 0 0 0 0;\n",
              "      width: 32px;\n",
              "    }\n",
              "\n",
              "    .colab-df-convert:hover {\n",
              "      background-color: #E2EBFA;\n",
              "      box-shadow: 0px 1px 2px rgba(60, 64, 67, 0.3), 0px 1px 3px 1px rgba(60, 64, 67, 0.15);\n",
              "      fill: #174EA6;\n",
              "    }\n",
              "\n",
              "    .colab-df-buttons div {\n",
              "      margin-bottom: 4px;\n",
              "    }\n",
              "\n",
              "    [theme=dark] .colab-df-convert {\n",
              "      background-color: #3B4455;\n",
              "      fill: #D2E3FC;\n",
              "    }\n",
              "\n",
              "    [theme=dark] .colab-df-convert:hover {\n",
              "      background-color: #434B5C;\n",
              "      box-shadow: 0px 1px 3px 1px rgba(0, 0, 0, 0.15);\n",
              "      filter: drop-shadow(0px 1px 2px rgba(0, 0, 0, 0.3));\n",
              "      fill: #FFFFFF;\n",
              "    }\n",
              "  </style>\n",
              "\n",
              "    <script>\n",
              "      const buttonEl =\n",
              "        document.querySelector('#df-e54ee4ec-4cca-4c54-82c4-8b0e73be0c15 button.colab-df-convert');\n",
              "      buttonEl.style.display =\n",
              "        google.colab.kernel.accessAllowed ? 'block' : 'none';\n",
              "\n",
              "      async function convertToInteractive(key) {\n",
              "        const element = document.querySelector('#df-e54ee4ec-4cca-4c54-82c4-8b0e73be0c15');\n",
              "        const dataTable =\n",
              "          await google.colab.kernel.invokeFunction('convertToInteractive',\n",
              "                                                    [key], {});\n",
              "        if (!dataTable) return;\n",
              "\n",
              "        const docLinkHtml = 'Like what you see? Visit the ' +\n",
              "          '<a target=\"_blank\" href=https://colab.research.google.com/notebooks/data_table.ipynb>data table notebook</a>'\n",
              "          + ' to learn more about interactive tables.';\n",
              "        element.innerHTML = '';\n",
              "        dataTable['output_type'] = 'display_data';\n",
              "        await google.colab.output.renderOutput(dataTable, element);\n",
              "        const docLink = document.createElement('div');\n",
              "        docLink.innerHTML = docLinkHtml;\n",
              "        element.appendChild(docLink);\n",
              "      }\n",
              "    </script>\n",
              "  </div>\n",
              "\n",
              "\n",
              "    <div id=\"df-6340ab10-6a2c-4b22-8d48-b550e7ce8655\">\n",
              "      <button class=\"colab-df-quickchart\" onclick=\"quickchart('df-6340ab10-6a2c-4b22-8d48-b550e7ce8655')\"\n",
              "                title=\"Suggest charts\"\n",
              "                style=\"display:none;\">\n",
              "\n",
              "<svg xmlns=\"http://www.w3.org/2000/svg\" height=\"24px\"viewBox=\"0 0 24 24\"\n",
              "     width=\"24px\">\n",
              "    <g>\n",
              "        <path d=\"M19 3H5c-1.1 0-2 .9-2 2v14c0 1.1.9 2 2 2h14c1.1 0 2-.9 2-2V5c0-1.1-.9-2-2-2zM9 17H7v-7h2v7zm4 0h-2V7h2v10zm4 0h-2v-4h2v4z\"/>\n",
              "    </g>\n",
              "</svg>\n",
              "      </button>\n",
              "\n",
              "<style>\n",
              "  .colab-df-quickchart {\n",
              "      --bg-color: #E8F0FE;\n",
              "      --fill-color: #1967D2;\n",
              "      --hover-bg-color: #E2EBFA;\n",
              "      --hover-fill-color: #174EA6;\n",
              "      --disabled-fill-color: #AAA;\n",
              "      --disabled-bg-color: #DDD;\n",
              "  }\n",
              "\n",
              "  [theme=dark] .colab-df-quickchart {\n",
              "      --bg-color: #3B4455;\n",
              "      --fill-color: #D2E3FC;\n",
              "      --hover-bg-color: #434B5C;\n",
              "      --hover-fill-color: #FFFFFF;\n",
              "      --disabled-bg-color: #3B4455;\n",
              "      --disabled-fill-color: #666;\n",
              "  }\n",
              "\n",
              "  .colab-df-quickchart {\n",
              "    background-color: var(--bg-color);\n",
              "    border: none;\n",
              "    border-radius: 50%;\n",
              "    cursor: pointer;\n",
              "    display: none;\n",
              "    fill: var(--fill-color);\n",
              "    height: 32px;\n",
              "    padding: 0;\n",
              "    width: 32px;\n",
              "  }\n",
              "\n",
              "  .colab-df-quickchart:hover {\n",
              "    background-color: var(--hover-bg-color);\n",
              "    box-shadow: 0 1px 2px rgba(60, 64, 67, 0.3), 0 1px 3px 1px rgba(60, 64, 67, 0.15);\n",
              "    fill: var(--button-hover-fill-color);\n",
              "  }\n",
              "\n",
              "  .colab-df-quickchart-complete:disabled,\n",
              "  .colab-df-quickchart-complete:disabled:hover {\n",
              "    background-color: var(--disabled-bg-color);\n",
              "    fill: var(--disabled-fill-color);\n",
              "    box-shadow: none;\n",
              "  }\n",
              "\n",
              "  .colab-df-spinner {\n",
              "    border: 2px solid var(--fill-color);\n",
              "    border-color: transparent;\n",
              "    border-bottom-color: var(--fill-color);\n",
              "    animation:\n",
              "      spin 1s steps(1) infinite;\n",
              "  }\n",
              "\n",
              "  @keyframes spin {\n",
              "    0% {\n",
              "      border-color: transparent;\n",
              "      border-bottom-color: var(--fill-color);\n",
              "      border-left-color: var(--fill-color);\n",
              "    }\n",
              "    20% {\n",
              "      border-color: transparent;\n",
              "      border-left-color: var(--fill-color);\n",
              "      border-top-color: var(--fill-color);\n",
              "    }\n",
              "    30% {\n",
              "      border-color: transparent;\n",
              "      border-left-color: var(--fill-color);\n",
              "      border-top-color: var(--fill-color);\n",
              "      border-right-color: var(--fill-color);\n",
              "    }\n",
              "    40% {\n",
              "      border-color: transparent;\n",
              "      border-right-color: var(--fill-color);\n",
              "      border-top-color: var(--fill-color);\n",
              "    }\n",
              "    60% {\n",
              "      border-color: transparent;\n",
              "      border-right-color: var(--fill-color);\n",
              "    }\n",
              "    80% {\n",
              "      border-color: transparent;\n",
              "      border-right-color: var(--fill-color);\n",
              "      border-bottom-color: var(--fill-color);\n",
              "    }\n",
              "    90% {\n",
              "      border-color: transparent;\n",
              "      border-bottom-color: var(--fill-color);\n",
              "    }\n",
              "  }\n",
              "</style>\n",
              "\n",
              "      <script>\n",
              "        async function quickchart(key) {\n",
              "          const quickchartButtonEl =\n",
              "            document.querySelector('#' + key + ' button');\n",
              "          quickchartButtonEl.disabled = true;  // To prevent multiple clicks.\n",
              "          quickchartButtonEl.classList.add('colab-df-spinner');\n",
              "          try {\n",
              "            const charts = await google.colab.kernel.invokeFunction(\n",
              "                'suggestCharts', [key], {});\n",
              "          } catch (error) {\n",
              "            console.error('Error during call to suggestCharts:', error);\n",
              "          }\n",
              "          quickchartButtonEl.classList.remove('colab-df-spinner');\n",
              "          quickchartButtonEl.classList.add('colab-df-quickchart-complete');\n",
              "        }\n",
              "        (() => {\n",
              "          let quickchartButtonEl =\n",
              "            document.querySelector('#df-6340ab10-6a2c-4b22-8d48-b550e7ce8655 button');\n",
              "          quickchartButtonEl.style.display =\n",
              "            google.colab.kernel.accessAllowed ? 'block' : 'none';\n",
              "        })();\n",
              "      </script>\n",
              "    </div>\n",
              "\n",
              "    </div>\n",
              "  </div>\n"
            ],
            "application/vnd.google.colaboratory.intrinsic+json": {
              "type": "dataframe",
              "variable_name": "df_proc"
            }
          },
          "metadata": {},
          "execution_count": 450
        }
      ]
    },
    {
      "cell_type": "markdown",
      "source": [
        "A classe positiva é o Yes"
      ],
      "metadata": {
        "id": "QQ2wW7rmG7P8"
      }
    },
    {
      "cell_type": "markdown",
      "source": [
        "##Modelagem dos Dados"
      ],
      "metadata": {
        "id": "2BUAOUvCIm_z"
      }
    },
    {
      "cell_type": "markdown",
      "source": [
        "Agora iremos modelar finalmente nossos dados, iremos seguir com o modelo xgboost, vale lembrar que nossos dados estão desbalanceados e não realizamos nenhum balanceamento, mas faremos dentro da função do xgboost."
      ],
      "metadata": {
        "id": "ey2yieqLIqFM"
      }
    },
    {
      "cell_type": "code",
      "source": [
        "X = df_proc.drop(\"Churn\",axis=1)\n",
        "y = df_proc[\"Churn\"]"
      ],
      "metadata": {
        "id": "dRA1oF5dPWTm"
      },
      "execution_count": 451,
      "outputs": []
    },
    {
      "cell_type": "markdown",
      "source": [
        "###Otimização dos Hiperparâmetros\n",
        "\n",
        "Este modelo possui diversos hiperparâmetros, para realizar nosso tunning, iremos separar por partes, caso contrário nossa modelagem poderá demorar muito tempo.\n",
        "\n",
        "Falta, também, definir qual será a métrica de sucesso para nosso caso. Utilizaremos a curva ROC, uma vez que para churn, entender qual cliente vai sair é importantem, mas, se chutarmos que um cliente está para sair e for mentira, estaremos perdendo dinheiro também."
      ],
      "metadata": {
        "id": "v2cUVefHKfLb"
      }
    },
    {
      "cell_type": "markdown",
      "source": [
        "Vamos otimizar os seguintes parametros em ordem:max_depth, min_child_weight, colsample_bytree, learning_rate\n",
        "\n",
        "scale_pos_weight usaremos tabelado, sabemos que temos 4159 Neg e 1475 Pos faremos 4159/1475"
      ],
      "metadata": {
        "id": "B_vbF-RPM7df"
      }
    },
    {
      "cell_type": "code",
      "source": [
        "peso = 4159/1475\n",
        "modelo = XGBClassifier(scale_pos_weight=peso)\n",
        "\n",
        "param_grid = {\"max_depth\":[2,3,4,5,6,7,8,9]\n",
        "}\n",
        "\n",
        "kfold = StratifiedKFold(n_splits=10, shuffle=True, random_state=123)\n",
        "grid_search = GridSearchCV(modelo, param_grid, scoring=\"roc_auc\", n_jobs=-1, cv=kfold)\n",
        "grid_result = grid_search.fit(X,y)\n",
        "\n",
        "print(\"Melhor resultado é {} para o parametro {}\".format(grid_result.best_score_, grid_result.best_params_))"
      ],
      "metadata": {
        "colab": {
          "base_uri": "https://localhost:8080/"
        },
        "id": "d4zvDBmRKWnH",
        "outputId": "759f04dc-1c08-402f-97a6-5e83b327180a"
      },
      "execution_count": 452,
      "outputs": [
        {
          "output_type": "stream",
          "name": "stdout",
          "text": [
            "Melhor resultado é 0.8421193673831905 para o parametro {'max_depth': 2}\n"
          ]
        }
      ]
    },
    {
      "cell_type": "markdown",
      "source": [
        "Seguindo a ordem, min_child_weight.\n",
        "\n",
        "Está fixo o scale_pos_weight = 4159/1475 e max_depth=2"
      ],
      "metadata": {
        "id": "HpnD25DJSDsj"
      }
    },
    {
      "cell_type": "code",
      "source": [
        "peso = 4159/1475\n",
        "modelo = XGBClassifier(scale_pos_weight=peso, max_depth=2)\n",
        "\n",
        "param_grid = {\"min_child_weight\":[0.1,1,3,6,7]\n",
        "}\n",
        "\n",
        "kfold= StratifiedKFold(n_splits=10, shuffle = True, random_state=123)\n",
        "grid_search = GridSearchCV(modelo, param_grid, scoring=\"roc_auc\", n_jobs=-1, cv=kfold)\n",
        "grid_result = grid_search.fit(X,y)\n",
        "\n",
        "print(\"Melhor resultado é {} para o parametro {}\".format(grid_result.best_score_, grid_result.best_params_))"
      ],
      "metadata": {
        "colab": {
          "base_uri": "https://localhost:8080/"
        },
        "id": "BYNiRSsBSCnb",
        "outputId": "7480731c-3000-4826-f48d-924ce10a2d6b"
      },
      "execution_count": 453,
      "outputs": [
        {
          "output_type": "stream",
          "name": "stdout",
          "text": [
            "Melhor resultado é 0.842962718712369 para o parametro {'min_child_weight': 0.1}\n"
          ]
        }
      ]
    },
    {
      "cell_type": "markdown",
      "source": [
        "Seguindo, temos: scale_pos_weight = 4159/1475, max_depth=2, min_child_weight=0.1\n",
        "\n",
        "Faremos agora para colsample_bytree."
      ],
      "metadata": {
        "id": "DBdyoik0T60g"
      }
    },
    {
      "cell_type": "code",
      "source": [
        "peso=4159/1475\n",
        "model = XGBClassifier(scale_pos_weight=peso, max_depth=2, min_child_weight=0.1)\n",
        "\n",
        "param_grid = {\"colsample_bytree\":[0.01,0.2,0.3,0.5]\n",
        "}\n",
        "kfold = StratifiedKFold(n_splits=10, shuffle=True, random_state=123)\n",
        "grid_search = GridSearchCV(model, param_grid, scoring=\"roc_auc\", n_jobs=-1,cv=kfold)\n",
        "grid_result = grid_search.fit(X,y)\n",
        "\n",
        "print(\"Melhor resultado é {} para o parâmetro {}\".format(grid_result.best_score_, grid_result.best_params_))"
      ],
      "metadata": {
        "colab": {
          "base_uri": "https://localhost:8080/"
        },
        "id": "5AZtoDtMUIKX",
        "outputId": "6784698e-7ac0-45e6-b7bc-7375c7fb7d5d"
      },
      "execution_count": 454,
      "outputs": [
        {
          "output_type": "stream",
          "name": "stdout",
          "text": [
            "Melhor resultado é 0.8449420832514368 para o parâmetro {'colsample_bytree': 0.3}\n"
          ]
        }
      ]
    },
    {
      "cell_type": "markdown",
      "source": [
        "Seguindo, temos: scale_pos_weight = 4159/1475, max_depth=2, min_child_weight=0.1, colsample_bytree=0.3\n",
        "\n",
        "Faremos agora para, para finalizar, learning_rate."
      ],
      "metadata": {
        "id": "OGYC5fhyW5gx"
      }
    },
    {
      "cell_type": "code",
      "source": [
        "peso=4159/1475\n",
        "model = XGBClassifier(scale_pos_weight=peso, max_depth=2, min_child_weight=0.1, colsample_bytree=0.3)\n",
        "\n",
        "param_grid = {\"learning_rate\":[0.01,0.1,0.2,0.3,0.8]\n",
        "}\n",
        "kfold = StratifiedKFold(n_splits=10, shuffle=True, random_state=123)\n",
        "grid_search = GridSearchCV(model, param_grid, scoring=\"roc_auc\", n_jobs=-1,cv=kfold)\n",
        "grid_result = grid_search.fit(X,y)\n",
        "\n",
        "print(\"Melhor resultado é {} para o parâmetro {}\".format(grid_result.best_score_, grid_result.best_params_))"
      ],
      "metadata": {
        "colab": {
          "base_uri": "https://localhost:8080/"
        },
        "id": "uoAcymSYXA6z",
        "outputId": "fc803fcd-0238-4445-e464-49326aeefc7d"
      },
      "execution_count": 455,
      "outputs": [
        {
          "output_type": "stream",
          "name": "stdout",
          "text": [
            "Melhor resultado é 0.846365585437767 para o parâmetro {'learning_rate': 0.2}\n"
          ]
        }
      ]
    },
    {
      "cell_type": "markdown",
      "source": [
        "Então temos nosso modelo feito com A melhor métrica de 0.846 (Área Embaixo da Curva)\n",
        "\n"
      ],
      "metadata": {
        "id": "uPFiU1z5YaV2"
      }
    },
    {
      "cell_type": "markdown",
      "source": [
        "##Aplicando no Conjunto de Testes"
      ],
      "metadata": {
        "id": "QJMMZ9CHYmyN"
      }
    },
    {
      "cell_type": "markdown",
      "source": [
        "Como queremos simular fielmente a entrada de novos dados, nosso conjunto de testes está sem nenhuma alteração, isto é, os tipos dos dados, o tratamento do vlaor nulo, criação de dummies...\n",
        "\n",
        "Assim devemos aplicar os métodos de preprocessamentos já feitos agora."
      ],
      "metadata": {
        "id": "63vIrHmnYrF3"
      }
    },
    {
      "cell_type": "code",
      "source": [
        "df_teste = pd.concat([X_test, y_test],axis=1)"
      ],
      "metadata": {
        "id": "Pmhfz3mZZCae"
      },
      "execution_count": 456,
      "outputs": []
    },
    {
      "cell_type": "markdown",
      "source": [
        "###Aplicar o Preprocessamento"
      ],
      "metadata": {
        "id": "J-zpACatl-e5"
      }
    },
    {
      "cell_type": "markdown",
      "source": [
        "Veja que temos os problemas passados, `TotalCharges` como object, `SeniorCitize`como int"
      ],
      "metadata": {
        "id": "MAG-X0pWmEBx"
      }
    },
    {
      "cell_type": "code",
      "source": [
        "df_teste.info()"
      ],
      "metadata": {
        "colab": {
          "base_uri": "https://localhost:8080/"
        },
        "id": "I7C4GbLel7BQ",
        "outputId": "12648150-6460-4b11-fe79-45a0c7800fa2"
      },
      "execution_count": 457,
      "outputs": [
        {
          "output_type": "stream",
          "name": "stdout",
          "text": [
            "<class 'pandas.core.frame.DataFrame'>\n",
            "Index: 1409 entries, 941 to 3266\n",
            "Data columns (total 21 columns):\n",
            " #   Column            Non-Null Count  Dtype  \n",
            "---  ------            --------------  -----  \n",
            " 0   customerID        1409 non-null   object \n",
            " 1   gender            1409 non-null   object \n",
            " 2   SeniorCitizen     1409 non-null   int64  \n",
            " 3   Partner           1409 non-null   object \n",
            " 4   Dependents        1409 non-null   object \n",
            " 5   tenure            1409 non-null   int64  \n",
            " 6   PhoneService      1409 non-null   object \n",
            " 7   MultipleLines     1409 non-null   object \n",
            " 8   InternetService   1409 non-null   object \n",
            " 9   OnlineSecurity    1409 non-null   object \n",
            " 10  OnlineBackup      1409 non-null   object \n",
            " 11  DeviceProtection  1409 non-null   object \n",
            " 12  TechSupport       1409 non-null   object \n",
            " 13  StreamingTV       1409 non-null   object \n",
            " 14  StreamingMovies   1409 non-null   object \n",
            " 15  Contract          1409 non-null   object \n",
            " 16  PaperlessBilling  1409 non-null   object \n",
            " 17  PaymentMethod     1409 non-null   object \n",
            " 18  MonthlyCharges    1409 non-null   float64\n",
            " 19  TotalCharges      1409 non-null   object \n",
            " 20  Churn             1409 non-null   object \n",
            "dtypes: float64(1), int64(2), object(18)\n",
            "memory usage: 242.2+ KB\n"
          ]
        }
      ]
    },
    {
      "cell_type": "code",
      "source": [
        "df_teste = df_teste.replace(\" \", \"NaN\")\n",
        "df_teste[\"SeniorCitizen\"] = df_teste[\"SeniorCitizen\"].astype(object)\n",
        "df_teste[\"TotalCharges\"] = df_teste[\"TotalCharges\"].astype(float)"
      ],
      "metadata": {
        "id": "lh0Sq2ctmNR7"
      },
      "execution_count": 458,
      "outputs": []
    },
    {
      "cell_type": "markdown",
      "source": [
        "Agora devemos substituir os valores NaN com  a média já calcuada"
      ],
      "metadata": {
        "id": "-FsrS9ZgmTC4"
      }
    },
    {
      "cell_type": "code",
      "source": [
        "df_teste[\"TotalCharges\"] = df_teste[\"TotalCharges\"].fillna(media)"
      ],
      "metadata": {
        "id": "_IynrzYRmSw5"
      },
      "execution_count": 459,
      "outputs": []
    },
    {
      "cell_type": "code",
      "source": [
        "df_teste.info()"
      ],
      "metadata": {
        "colab": {
          "base_uri": "https://localhost:8080/"
        },
        "id": "3KtWs5damr8F",
        "outputId": "632dbb9a-f5bf-4d1a-94a7-3f1ea4d9399a"
      },
      "execution_count": 460,
      "outputs": [
        {
          "output_type": "stream",
          "name": "stdout",
          "text": [
            "<class 'pandas.core.frame.DataFrame'>\n",
            "Index: 1409 entries, 941 to 3266\n",
            "Data columns (total 21 columns):\n",
            " #   Column            Non-Null Count  Dtype  \n",
            "---  ------            --------------  -----  \n",
            " 0   customerID        1409 non-null   object \n",
            " 1   gender            1409 non-null   object \n",
            " 2   SeniorCitizen     1409 non-null   object \n",
            " 3   Partner           1409 non-null   object \n",
            " 4   Dependents        1409 non-null   object \n",
            " 5   tenure            1409 non-null   int64  \n",
            " 6   PhoneService      1409 non-null   object \n",
            " 7   MultipleLines     1409 non-null   object \n",
            " 8   InternetService   1409 non-null   object \n",
            " 9   OnlineSecurity    1409 non-null   object \n",
            " 10  OnlineBackup      1409 non-null   object \n",
            " 11  DeviceProtection  1409 non-null   object \n",
            " 12  TechSupport       1409 non-null   object \n",
            " 13  StreamingTV       1409 non-null   object \n",
            " 14  StreamingMovies   1409 non-null   object \n",
            " 15  Contract          1409 non-null   object \n",
            " 16  PaperlessBilling  1409 non-null   object \n",
            " 17  PaymentMethod     1409 non-null   object \n",
            " 18  MonthlyCharges    1409 non-null   float64\n",
            " 19  TotalCharges      1409 non-null   float64\n",
            " 20  Churn             1409 non-null   object \n",
            "dtypes: float64(2), int64(1), object(18)\n",
            "memory usage: 242.2+ KB\n"
          ]
        }
      ]
    },
    {
      "cell_type": "markdown",
      "source": [
        "Também fizemos o drop de `PhoneService` e `customerID`"
      ],
      "metadata": {
        "id": "95ywlZKfm2vp"
      }
    },
    {
      "cell_type": "code",
      "source": [
        "df_teste = df_teste.drop(\"PhoneService\",axis=1)\n",
        "df_teste = df_teste.drop(\"customerID\",axis=1)"
      ],
      "metadata": {
        "id": "dZLmRsBBnFzh"
      },
      "execution_count": 461,
      "outputs": []
    },
    {
      "cell_type": "markdown",
      "source": [
        "Agora iremos preparar os dados, temos que aplicar dummie nas categóricas >2"
      ],
      "metadata": {
        "id": "BgCBfZ0LnP9f"
      }
    },
    {
      "cell_type": "code",
      "source": [
        "# pré processar as variáveis\n",
        "binary_var = df_teste.nunique()[df_teste.nunique() == 2].keys().tolist()\n",
        "num_var = [col for col in df_teste.select_dtypes(['int', 'float']).columns.tolist() if col not in binary_var]\n",
        "cat_var = [col for col in df_teste.columns.tolist() if col not in binary_var + num_var]\n",
        "\n",
        "# criar uma cópia do dataframe\n",
        "\n",
        "# Label Encoding para as variáveis Binárias\n",
        "le = LabelEncoder()\n",
        "for i in binary_var:\n",
        "    df_teste[i] = le.fit_transform(df_teste[i])\n",
        "\n",
        "# Encoding para colunas categóricas com múltiplas classes\n",
        "df_teste = pd.get_dummies(df_teste, columns=cat_var,dtype=int)\n",
        "\n",
        "# ver as 5 primeiras entradas do novo dataframe\n",
        "df_teste.head()"
      ],
      "metadata": {
        "colab": {
          "base_uri": "https://localhost:8080/",
          "height": 290
        },
        "id": "VmD9rDzHoFV9",
        "outputId": "330aa64e-a8f5-48d3-9e08-336cf55ceb98"
      },
      "execution_count": 462,
      "outputs": [
        {
          "output_type": "execute_result",
          "data": {
            "text/plain": [
              "      gender  SeniorCitizen  Partner  Dependents  tenure  PaperlessBilling  \\\n",
              "941        0              0        0           1      13                 0   \n",
              "1404       0              0        0           0      35                 0   \n",
              "5515       0              0        1           1      18                 0   \n",
              "3684       1              0        0           0      43                 1   \n",
              "7017       0              0        0           0      51                 0   \n",
              "\n",
              "      MonthlyCharges  TotalCharges  Churn  MultipleLines_No  ...  \\\n",
              "941            30.15        382.20      0                 0  ...   \n",
              "1404           23.30        797.10      0                 0  ...   \n",
              "5515           19.35        309.25      0                 1  ...   \n",
              "3684           75.35       3161.40      0                 0  ...   \n",
              "7017           20.65       1020.75      0                 1  ...   \n",
              "\n",
              "      StreamingMovies_No  StreamingMovies_No internet service  \\\n",
              "941                    1                                    0   \n",
              "1404                   0                                    1   \n",
              "5515                   0                                    1   \n",
              "3684                   1                                    0   \n",
              "7017                   0                                    1   \n",
              "\n",
              "      StreamingMovies_Yes  Contract_Month-to-month  Contract_One year  \\\n",
              "941                     0                        1                  0   \n",
              "1404                    0                        0                  0   \n",
              "5515                    0                        0                  0   \n",
              "3684                    0                        1                  0   \n",
              "7017                    0                        0                  0   \n",
              "\n",
              "      Contract_Two year  PaymentMethod_Bank transfer (automatic)  \\\n",
              "941                   0                                        0   \n",
              "1404                  1                                        1   \n",
              "5515                  1                                        0   \n",
              "3684                  0                                        0   \n",
              "7017                  1                                        1   \n",
              "\n",
              "      PaymentMethod_Credit card (automatic)  PaymentMethod_Electronic check  \\\n",
              "941                                       0                               1   \n",
              "1404                                      0                               0   \n",
              "5515                                      0                               0   \n",
              "3684                                      1                               0   \n",
              "7017                                      0                               0   \n",
              "\n",
              "      PaymentMethod_Mailed check  \n",
              "941                            0  \n",
              "1404                           0  \n",
              "5515                           1  \n",
              "3684                           0  \n",
              "7017                           0  \n",
              "\n",
              "[5 rows x 40 columns]"
            ],
            "text/html": [
              "\n",
              "  <div id=\"df-8883f87f-0f1d-4564-a2c6-464d67304cc3\" class=\"colab-df-container\">\n",
              "    <div>\n",
              "<style scoped>\n",
              "    .dataframe tbody tr th:only-of-type {\n",
              "        vertical-align: middle;\n",
              "    }\n",
              "\n",
              "    .dataframe tbody tr th {\n",
              "        vertical-align: top;\n",
              "    }\n",
              "\n",
              "    .dataframe thead th {\n",
              "        text-align: right;\n",
              "    }\n",
              "</style>\n",
              "<table border=\"1\" class=\"dataframe\">\n",
              "  <thead>\n",
              "    <tr style=\"text-align: right;\">\n",
              "      <th></th>\n",
              "      <th>gender</th>\n",
              "      <th>SeniorCitizen</th>\n",
              "      <th>Partner</th>\n",
              "      <th>Dependents</th>\n",
              "      <th>tenure</th>\n",
              "      <th>PaperlessBilling</th>\n",
              "      <th>MonthlyCharges</th>\n",
              "      <th>TotalCharges</th>\n",
              "      <th>Churn</th>\n",
              "      <th>MultipleLines_No</th>\n",
              "      <th>...</th>\n",
              "      <th>StreamingMovies_No</th>\n",
              "      <th>StreamingMovies_No internet service</th>\n",
              "      <th>StreamingMovies_Yes</th>\n",
              "      <th>Contract_Month-to-month</th>\n",
              "      <th>Contract_One year</th>\n",
              "      <th>Contract_Two year</th>\n",
              "      <th>PaymentMethod_Bank transfer (automatic)</th>\n",
              "      <th>PaymentMethod_Credit card (automatic)</th>\n",
              "      <th>PaymentMethod_Electronic check</th>\n",
              "      <th>PaymentMethod_Mailed check</th>\n",
              "    </tr>\n",
              "  </thead>\n",
              "  <tbody>\n",
              "    <tr>\n",
              "      <th>941</th>\n",
              "      <td>0</td>\n",
              "      <td>0</td>\n",
              "      <td>0</td>\n",
              "      <td>1</td>\n",
              "      <td>13</td>\n",
              "      <td>0</td>\n",
              "      <td>30.15</td>\n",
              "      <td>382.20</td>\n",
              "      <td>0</td>\n",
              "      <td>0</td>\n",
              "      <td>...</td>\n",
              "      <td>1</td>\n",
              "      <td>0</td>\n",
              "      <td>0</td>\n",
              "      <td>1</td>\n",
              "      <td>0</td>\n",
              "      <td>0</td>\n",
              "      <td>0</td>\n",
              "      <td>0</td>\n",
              "      <td>1</td>\n",
              "      <td>0</td>\n",
              "    </tr>\n",
              "    <tr>\n",
              "      <th>1404</th>\n",
              "      <td>0</td>\n",
              "      <td>0</td>\n",
              "      <td>0</td>\n",
              "      <td>0</td>\n",
              "      <td>35</td>\n",
              "      <td>0</td>\n",
              "      <td>23.30</td>\n",
              "      <td>797.10</td>\n",
              "      <td>0</td>\n",
              "      <td>0</td>\n",
              "      <td>...</td>\n",
              "      <td>0</td>\n",
              "      <td>1</td>\n",
              "      <td>0</td>\n",
              "      <td>0</td>\n",
              "      <td>0</td>\n",
              "      <td>1</td>\n",
              "      <td>1</td>\n",
              "      <td>0</td>\n",
              "      <td>0</td>\n",
              "      <td>0</td>\n",
              "    </tr>\n",
              "    <tr>\n",
              "      <th>5515</th>\n",
              "      <td>0</td>\n",
              "      <td>0</td>\n",
              "      <td>1</td>\n",
              "      <td>1</td>\n",
              "      <td>18</td>\n",
              "      <td>0</td>\n",
              "      <td>19.35</td>\n",
              "      <td>309.25</td>\n",
              "      <td>0</td>\n",
              "      <td>1</td>\n",
              "      <td>...</td>\n",
              "      <td>0</td>\n",
              "      <td>1</td>\n",
              "      <td>0</td>\n",
              "      <td>0</td>\n",
              "      <td>0</td>\n",
              "      <td>1</td>\n",
              "      <td>0</td>\n",
              "      <td>0</td>\n",
              "      <td>0</td>\n",
              "      <td>1</td>\n",
              "    </tr>\n",
              "    <tr>\n",
              "      <th>3684</th>\n",
              "      <td>1</td>\n",
              "      <td>0</td>\n",
              "      <td>0</td>\n",
              "      <td>0</td>\n",
              "      <td>43</td>\n",
              "      <td>1</td>\n",
              "      <td>75.35</td>\n",
              "      <td>3161.40</td>\n",
              "      <td>0</td>\n",
              "      <td>0</td>\n",
              "      <td>...</td>\n",
              "      <td>1</td>\n",
              "      <td>0</td>\n",
              "      <td>0</td>\n",
              "      <td>1</td>\n",
              "      <td>0</td>\n",
              "      <td>0</td>\n",
              "      <td>0</td>\n",
              "      <td>1</td>\n",
              "      <td>0</td>\n",
              "      <td>0</td>\n",
              "    </tr>\n",
              "    <tr>\n",
              "      <th>7017</th>\n",
              "      <td>0</td>\n",
              "      <td>0</td>\n",
              "      <td>0</td>\n",
              "      <td>0</td>\n",
              "      <td>51</td>\n",
              "      <td>0</td>\n",
              "      <td>20.65</td>\n",
              "      <td>1020.75</td>\n",
              "      <td>0</td>\n",
              "      <td>1</td>\n",
              "      <td>...</td>\n",
              "      <td>0</td>\n",
              "      <td>1</td>\n",
              "      <td>0</td>\n",
              "      <td>0</td>\n",
              "      <td>0</td>\n",
              "      <td>1</td>\n",
              "      <td>1</td>\n",
              "      <td>0</td>\n",
              "      <td>0</td>\n",
              "      <td>0</td>\n",
              "    </tr>\n",
              "  </tbody>\n",
              "</table>\n",
              "<p>5 rows × 40 columns</p>\n",
              "</div>\n",
              "    <div class=\"colab-df-buttons\">\n",
              "\n",
              "  <div class=\"colab-df-container\">\n",
              "    <button class=\"colab-df-convert\" onclick=\"convertToInteractive('df-8883f87f-0f1d-4564-a2c6-464d67304cc3')\"\n",
              "            title=\"Convert this dataframe to an interactive table.\"\n",
              "            style=\"display:none;\">\n",
              "\n",
              "  <svg xmlns=\"http://www.w3.org/2000/svg\" height=\"24px\" viewBox=\"0 -960 960 960\">\n",
              "    <path d=\"M120-120v-720h720v720H120Zm60-500h600v-160H180v160Zm220 220h160v-160H400v160Zm0 220h160v-160H400v160ZM180-400h160v-160H180v160Zm440 0h160v-160H620v160ZM180-180h160v-160H180v160Zm440 0h160v-160H620v160Z\"/>\n",
              "  </svg>\n",
              "    </button>\n",
              "\n",
              "  <style>\n",
              "    .colab-df-container {\n",
              "      display:flex;\n",
              "      gap: 12px;\n",
              "    }\n",
              "\n",
              "    .colab-df-convert {\n",
              "      background-color: #E8F0FE;\n",
              "      border: none;\n",
              "      border-radius: 50%;\n",
              "      cursor: pointer;\n",
              "      display: none;\n",
              "      fill: #1967D2;\n",
              "      height: 32px;\n",
              "      padding: 0 0 0 0;\n",
              "      width: 32px;\n",
              "    }\n",
              "\n",
              "    .colab-df-convert:hover {\n",
              "      background-color: #E2EBFA;\n",
              "      box-shadow: 0px 1px 2px rgba(60, 64, 67, 0.3), 0px 1px 3px 1px rgba(60, 64, 67, 0.15);\n",
              "      fill: #174EA6;\n",
              "    }\n",
              "\n",
              "    .colab-df-buttons div {\n",
              "      margin-bottom: 4px;\n",
              "    }\n",
              "\n",
              "    [theme=dark] .colab-df-convert {\n",
              "      background-color: #3B4455;\n",
              "      fill: #D2E3FC;\n",
              "    }\n",
              "\n",
              "    [theme=dark] .colab-df-convert:hover {\n",
              "      background-color: #434B5C;\n",
              "      box-shadow: 0px 1px 3px 1px rgba(0, 0, 0, 0.15);\n",
              "      filter: drop-shadow(0px 1px 2px rgba(0, 0, 0, 0.3));\n",
              "      fill: #FFFFFF;\n",
              "    }\n",
              "  </style>\n",
              "\n",
              "    <script>\n",
              "      const buttonEl =\n",
              "        document.querySelector('#df-8883f87f-0f1d-4564-a2c6-464d67304cc3 button.colab-df-convert');\n",
              "      buttonEl.style.display =\n",
              "        google.colab.kernel.accessAllowed ? 'block' : 'none';\n",
              "\n",
              "      async function convertToInteractive(key) {\n",
              "        const element = document.querySelector('#df-8883f87f-0f1d-4564-a2c6-464d67304cc3');\n",
              "        const dataTable =\n",
              "          await google.colab.kernel.invokeFunction('convertToInteractive',\n",
              "                                                    [key], {});\n",
              "        if (!dataTable) return;\n",
              "\n",
              "        const docLinkHtml = 'Like what you see? Visit the ' +\n",
              "          '<a target=\"_blank\" href=https://colab.research.google.com/notebooks/data_table.ipynb>data table notebook</a>'\n",
              "          + ' to learn more about interactive tables.';\n",
              "        element.innerHTML = '';\n",
              "        dataTable['output_type'] = 'display_data';\n",
              "        await google.colab.output.renderOutput(dataTable, element);\n",
              "        const docLink = document.createElement('div');\n",
              "        docLink.innerHTML = docLinkHtml;\n",
              "        element.appendChild(docLink);\n",
              "      }\n",
              "    </script>\n",
              "  </div>\n",
              "\n",
              "\n",
              "    <div id=\"df-0e56d2bc-486c-44b8-8c1b-40be1ba9bc14\">\n",
              "      <button class=\"colab-df-quickchart\" onclick=\"quickchart('df-0e56d2bc-486c-44b8-8c1b-40be1ba9bc14')\"\n",
              "                title=\"Suggest charts\"\n",
              "                style=\"display:none;\">\n",
              "\n",
              "<svg xmlns=\"http://www.w3.org/2000/svg\" height=\"24px\"viewBox=\"0 0 24 24\"\n",
              "     width=\"24px\">\n",
              "    <g>\n",
              "        <path d=\"M19 3H5c-1.1 0-2 .9-2 2v14c0 1.1.9 2 2 2h14c1.1 0 2-.9 2-2V5c0-1.1-.9-2-2-2zM9 17H7v-7h2v7zm4 0h-2V7h2v10zm4 0h-2v-4h2v4z\"/>\n",
              "    </g>\n",
              "</svg>\n",
              "      </button>\n",
              "\n",
              "<style>\n",
              "  .colab-df-quickchart {\n",
              "      --bg-color: #E8F0FE;\n",
              "      --fill-color: #1967D2;\n",
              "      --hover-bg-color: #E2EBFA;\n",
              "      --hover-fill-color: #174EA6;\n",
              "      --disabled-fill-color: #AAA;\n",
              "      --disabled-bg-color: #DDD;\n",
              "  }\n",
              "\n",
              "  [theme=dark] .colab-df-quickchart {\n",
              "      --bg-color: #3B4455;\n",
              "      --fill-color: #D2E3FC;\n",
              "      --hover-bg-color: #434B5C;\n",
              "      --hover-fill-color: #FFFFFF;\n",
              "      --disabled-bg-color: #3B4455;\n",
              "      --disabled-fill-color: #666;\n",
              "  }\n",
              "\n",
              "  .colab-df-quickchart {\n",
              "    background-color: var(--bg-color);\n",
              "    border: none;\n",
              "    border-radius: 50%;\n",
              "    cursor: pointer;\n",
              "    display: none;\n",
              "    fill: var(--fill-color);\n",
              "    height: 32px;\n",
              "    padding: 0;\n",
              "    width: 32px;\n",
              "  }\n",
              "\n",
              "  .colab-df-quickchart:hover {\n",
              "    background-color: var(--hover-bg-color);\n",
              "    box-shadow: 0 1px 2px rgba(60, 64, 67, 0.3), 0 1px 3px 1px rgba(60, 64, 67, 0.15);\n",
              "    fill: var(--button-hover-fill-color);\n",
              "  }\n",
              "\n",
              "  .colab-df-quickchart-complete:disabled,\n",
              "  .colab-df-quickchart-complete:disabled:hover {\n",
              "    background-color: var(--disabled-bg-color);\n",
              "    fill: var(--disabled-fill-color);\n",
              "    box-shadow: none;\n",
              "  }\n",
              "\n",
              "  .colab-df-spinner {\n",
              "    border: 2px solid var(--fill-color);\n",
              "    border-color: transparent;\n",
              "    border-bottom-color: var(--fill-color);\n",
              "    animation:\n",
              "      spin 1s steps(1) infinite;\n",
              "  }\n",
              "\n",
              "  @keyframes spin {\n",
              "    0% {\n",
              "      border-color: transparent;\n",
              "      border-bottom-color: var(--fill-color);\n",
              "      border-left-color: var(--fill-color);\n",
              "    }\n",
              "    20% {\n",
              "      border-color: transparent;\n",
              "      border-left-color: var(--fill-color);\n",
              "      border-top-color: var(--fill-color);\n",
              "    }\n",
              "    30% {\n",
              "      border-color: transparent;\n",
              "      border-left-color: var(--fill-color);\n",
              "      border-top-color: var(--fill-color);\n",
              "      border-right-color: var(--fill-color);\n",
              "    }\n",
              "    40% {\n",
              "      border-color: transparent;\n",
              "      border-right-color: var(--fill-color);\n",
              "      border-top-color: var(--fill-color);\n",
              "    }\n",
              "    60% {\n",
              "      border-color: transparent;\n",
              "      border-right-color: var(--fill-color);\n",
              "    }\n",
              "    80% {\n",
              "      border-color: transparent;\n",
              "      border-right-color: var(--fill-color);\n",
              "      border-bottom-color: var(--fill-color);\n",
              "    }\n",
              "    90% {\n",
              "      border-color: transparent;\n",
              "      border-bottom-color: var(--fill-color);\n",
              "    }\n",
              "  }\n",
              "</style>\n",
              "\n",
              "      <script>\n",
              "        async function quickchart(key) {\n",
              "          const quickchartButtonEl =\n",
              "            document.querySelector('#' + key + ' button');\n",
              "          quickchartButtonEl.disabled = true;  // To prevent multiple clicks.\n",
              "          quickchartButtonEl.classList.add('colab-df-spinner');\n",
              "          try {\n",
              "            const charts = await google.colab.kernel.invokeFunction(\n",
              "                'suggestCharts', [key], {});\n",
              "          } catch (error) {\n",
              "            console.error('Error during call to suggestCharts:', error);\n",
              "          }\n",
              "          quickchartButtonEl.classList.remove('colab-df-spinner');\n",
              "          quickchartButtonEl.classList.add('colab-df-quickchart-complete');\n",
              "        }\n",
              "        (() => {\n",
              "          let quickchartButtonEl =\n",
              "            document.querySelector('#df-0e56d2bc-486c-44b8-8c1b-40be1ba9bc14 button');\n",
              "          quickchartButtonEl.style.display =\n",
              "            google.colab.kernel.accessAllowed ? 'block' : 'none';\n",
              "        })();\n",
              "      </script>\n",
              "    </div>\n",
              "\n",
              "    </div>\n",
              "  </div>\n"
            ],
            "application/vnd.google.colaboratory.intrinsic+json": {
              "type": "dataframe",
              "variable_name": "df_teste"
            }
          },
          "metadata": {},
          "execution_count": 462
        }
      ]
    },
    {
      "cell_type": "markdown",
      "source": [
        "Finalmente Podemos aplicar nosso modelo no nosso conjunto de testes"
      ],
      "metadata": {
        "id": "t8AvzZp1oOy5"
      }
    },
    {
      "cell_type": "code",
      "source": [
        "X_test = df_teste.drop(\"Churn\",axis=1)\n",
        "y_test = df_teste[\"Churn\"]"
      ],
      "metadata": {
        "id": "r8YZRvMHo3V3"
      },
      "execution_count": 463,
      "outputs": []
    },
    {
      "cell_type": "markdown",
      "source": [
        "Nosso modelo final será feito usando (scale_pos_weight=peso, max_depth=2, min_child_weight=0.1, colsample_bytree=0.3, learning_rate=0.2)"
      ],
      "metadata": {
        "id": "QAOBx9mjpEWF"
      }
    },
    {
      "cell_type": "code",
      "source": [
        "modelo = XGBClassifier(scale_pos_weight=peso, max_depth=2, min_child_weight=0.1, colsample_bytree=0.3, learning_rate=0.2)\n",
        "\n",
        "modelo.fit(X,y)\n",
        "\n",
        "y_pred = modelo.predict(X_test)"
      ],
      "metadata": {
        "id": "ejXthMsZodVS"
      },
      "execution_count": 464,
      "outputs": []
    },
    {
      "cell_type": "code",
      "source": [
        "# Classification Report\n",
        "print(classification_report(y_test, y_pred))\n",
        "\n",
        "# imprimir a área sob a curva\n",
        "print(\"AUC: {:.4f}\\n\".format(roc_auc_score(y_test, y_pred)))\n",
        "\n",
        "fig, ax = plt.subplots(figsize=(10,5))\n",
        "\n",
        "matriz_conf = confusion_matrix(y_test, y_pred)\n",
        "sns.heatmap(matriz_conf, annot=True, fmt='g',ax=ax)\n",
        "ax.set_title(\"Matriz de Confusão\")\n",
        "ax.set_xlabel(\"Valores Preditos\")\n",
        "ax.set_ylabel(\"Valores Reais\")\n",
        "plt.tight_layout()\n",
        "plt.show()"
      ],
      "metadata": {
        "colab": {
          "base_uri": "https://localhost:8080/",
          "height": 698
        },
        "id": "ApsGBODVsW6X",
        "outputId": "63797d41-9efa-48ed-847b-ce4d690c0013"
      },
      "execution_count": 466,
      "outputs": [
        {
          "output_type": "stream",
          "name": "stdout",
          "text": [
            "              precision    recall  f1-score   support\n",
            "\n",
            "           0       0.91      0.74      0.82      1015\n",
            "           1       0.55      0.81      0.66       394\n",
            "\n",
            "    accuracy                           0.76      1409\n",
            "   macro avg       0.73      0.78      0.74      1409\n",
            "weighted avg       0.81      0.76      0.77      1409\n",
            "\n",
            "AUC: 0.7768\n",
            "\n"
          ]
        },
        {
          "output_type": "display_data",
          "data": {
            "text/plain": [
              "<Figure size 1000x500 with 2 Axes>"
            ],
            "image/png": "[encoded data removed]"
          },
          "metadata": {}
        }
      ]
    },
    {
      "cell_type": "markdown",
      "source": [
        "##Resultados"
      ],
      "metadata": {
        "id": "1UGgCGQvv3ta"
      }
    },
    {
      "cell_type": "markdown",
      "source": [
        "Nosso Teste foi um pouco pior do que esperado, AUC: 0.7768. Melhor modelo de treino teve AUC: 0.846\n",
        "\n",
        "Mas é esperado uma vez que são dados completamente novos.\n",
        "\n",
        "Nosso modelo foi muito bom em predizer 0, isto é Clientes nos quais não estão para cancelar o serviço.\n",
        "\n",
        "Porém nos Clientes que estão para cancelar os serviços, teve uma perfomance um pouco melhor do que a de uma moeda.\n",
        "\n",
        "Por mais que este segundo valor esteja baixo, Vamos entender o contexto mais uma vez, Acertamos muito os clientes que estão contentes, isto é bom uma vez que não perderemos dinheiro aplicando promoções para estes clientes.\n",
        "\n",
        "Agora, com os clientes que estão insatisfeitos de certa forma, conseguimos acertar um pouco mais da metade.\n",
        "\n",
        "Neste cenário podemos ao menos contribuir significativamente para empresa, uma vez que, 321 clientes (55%) seriam oferecidos novos benefícios. e apenas 73 clientes (9%) teriam benefícios gastos \"à toa\".\n",
        "\n",
        "Como podemos melhorar:\n",
        "\n",
        "Quando ocorre uma descrepância desta forma, normalmente se dá pelo desequilíbrio das classes, neste projeto resolvi dentro do modelo, porém talvez devesse usar um método como o SMOTE, além disso foquei na métrica AUC, dependendo da visão de negócio da empresa, fosse melhor focar nos clientes que estão insatisfeitos.\n",
        "\n",
        "Este foi o meu projeto de churn, obrigado a todos que leram até aqui, e permaneço à disposição caso possuam qualquer tipo de dúvidas.\n",
        "\n",
        "Segue meu email para um contato. pedropm@id.uff.br.\n"
      ],
      "metadata": {
        "id": "ijKaZAYGtHZ0"
      }
    }
  ]
}